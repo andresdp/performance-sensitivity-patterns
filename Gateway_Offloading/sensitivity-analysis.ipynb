{
 "cells": [
  {
   "cell_type": "code",
   "execution_count": 1,
   "metadata": {},
   "outputs": [],
   "source": [
    "import pandas as pd\n",
    "import numpy as np\n",
    "import seaborn as sns\n",
    "import matplotlib.pyplot as plt\n",
    "\n",
    "from ema_workbench.analysis import pairs_plotting\n",
    "from ema_workbench.analysis import feature_scoring\n",
    "from tqdm import tqdm\n",
    "\n",
    "from sklearn.preprocessing import StandardScaler, LabelEncoder\n",
    "\n",
    "import warnings\n",
    "from sklearn import tree\n",
    "from pprint import pprint \n",
    "import graphviz\n",
    "import sklearn\n",
    "import dtreeviz\n",
    "\n",
    "import os\n",
    "import sys\n",
    "sys.path.insert(0, '..')\n",
    "\n",
    "from archspace import GatewayOffloading, ArchSpace\n",
    "from archspace import show_pairplot, show_feature_scores, show_outcome_distributions, show_tradeoff_distribution\n",
    "from archspace import show_quality_attribute_space2D, show_configuration_space2D"
   ]
  },
  {
   "cell_type": "code",
   "execution_count": 2,
   "metadata": {},
   "outputs": [
    {
     "name": "stdout",
     "output_type": "stream",
     "text": [
      "(286, 39)\n",
      "filtered size: (78, 11)\n",
      "3 configurations\n"
     ]
    }
   ],
   "source": [
    "# Load the dataset for the pattern\n",
    "my_space = GatewayOffloading()\n",
    "my_space.create_model('gateway offloading')\n",
    "\n",
    "experiments_df, outcomes_df = my_space.load_results('./multi_N25.csv', reverse=True)\n",
    "\n",
    "print(len(my_space.get_configurations()), \"configurations\")"
   ]
  },
  {
   "cell_type": "code",
   "execution_count": 3,
   "metadata": {},
   "outputs": [
    {
     "data": {
      "application/vnd.microsoft.datawrangler.viewer.v0+json": {
       "columns": [
        {
         "name": "index",
         "rawType": "int64",
         "type": "integer"
        },
        {
         "name": "scenario",
         "rawType": "int64",
         "type": "integer"
        },
        {
         "name": "policy",
         "rawType": "object",
         "type": "string"
        },
        {
         "name": "N_A",
         "rawType": "int64",
         "type": "integer"
        },
        {
         "name": "N_B",
         "rawType": "int64",
         "type": "integer"
        },
        {
         "name": "Z_A",
         "rawType": "float64",
         "type": "float"
        },
        {
         "name": "Z_B",
         "rawType": "float64",
         "type": "float"
        },
        {
         "name": "S_gw",
         "rawType": "float64",
         "type": "float"
        },
        {
         "name": "s_A_s1",
         "rawType": "float64",
         "type": "float"
        },
        {
         "name": "s_B_s2",
         "rawType": "float64",
         "type": "float"
        },
        {
         "name": "s_B_s3",
         "rawType": "float64",
         "type": "float"
        },
        {
         "name": "model",
         "rawType": "object",
         "type": "string"
        }
       ],
       "conversionMethod": "pd.DataFrame",
       "ref": "cbac08e0-9fab-4c04-8179-5d194483835c",
       "rows": [
        [
         "0",
         "4",
         "no-offloading",
         "0",
         "25",
         "100.0",
         "100.0",
         "1e-15",
         "20.0",
         "12.000000000000007",
         "15.000000000000018",
         "gateway_offloading"
        ],
        [
         "1",
         "28",
         "no-offloading",
         "1",
         "24",
         "100.0",
         "100.0",
         "1e-15",
         "20.0",
         "12.000000000000007",
         "15.000000000000018",
         "gateway_offloading"
        ],
        [
         "2",
         "153",
         "no-offloading",
         "2",
         "23",
         "100.0",
         "100.0",
         "1e-15",
         "20.0",
         "12.000000000000007",
         "15.000000000000018",
         "gateway_offloading"
        ],
        [
         "3",
         "26",
         "no-offloading",
         "3",
         "22",
         "100.0",
         "100.0",
         "1e-15",
         "20.0",
         "12.000000000000007",
         "15.000000000000018",
         "gateway_offloading"
        ],
        [
         "4",
         "53",
         "no-offloading",
         "4",
         "21",
         "100.0",
         "100.0",
         "1e-15",
         "20.0",
         "12.000000000000007",
         "15.000000000000018",
         "gateway_offloading"
        ],
        [
         "5",
         "80",
         "no-offloading",
         "5",
         "20",
         "100.0",
         "100.0",
         "1e-15",
         "20.0",
         "12.000000000000007",
         "15.000000000000018",
         "gateway_offloading"
        ],
        [
         "6",
         "22",
         "no-offloading",
         "6",
         "19",
         "100.0",
         "100.0",
         "1e-15",
         "20.0",
         "12.000000000000007",
         "15.000000000000018",
         "gateway_offloading"
        ],
        [
         "7",
         "47",
         "no-offloading",
         "7",
         "18",
         "100.0",
         "100.0",
         "1e-15",
         "20.0",
         "12.000000000000007",
         "15.000000000000018",
         "gateway_offloading"
        ],
        [
         "8",
         "66",
         "no-offloading",
         "8",
         "17",
         "100.0",
         "100.0",
         "1e-15",
         "20.0",
         "12.000000000000007",
         "15.000000000000018",
         "gateway_offloading"
        ],
        [
         "9",
         "90",
         "no-offloading",
         "9",
         "16",
         "100.0",
         "100.0",
         "1e-15",
         "20.0",
         "12.000000000000007",
         "15.000000000000018",
         "gateway_offloading"
        ],
        [
         "10",
         "121",
         "no-offloading",
         "10",
         "15",
         "100.0",
         "100.0",
         "1e-15",
         "20.0",
         "12.000000000000007",
         "15.000000000000018",
         "gateway_offloading"
        ],
        [
         "11",
         "93",
         "no-offloading",
         "11",
         "14",
         "100.0",
         "100.0",
         "1e-15",
         "20.0",
         "12.000000000000007",
         "15.000000000000018",
         "gateway_offloading"
        ],
        [
         "12",
         "124",
         "no-offloading",
         "12",
         "13",
         "100.0",
         "100.0",
         "1e-15",
         "20.0",
         "12.000000000000007",
         "15.000000000000018",
         "gateway_offloading"
        ],
        [
         "13",
         "174",
         "no-offloading",
         "13",
         "12",
         "100.0",
         "100.0",
         "1e-15",
         "20.0",
         "12.000000000000007",
         "15.000000000000018",
         "gateway_offloading"
        ],
        [
         "14",
         "144",
         "no-offloading",
         "14",
         "11",
         "100.0",
         "100.0",
         "1e-15",
         "20.0",
         "12.000000000000007",
         "15.000000000000018",
         "gateway_offloading"
        ],
        [
         "15",
         "177",
         "no-offloading",
         "15",
         "10",
         "100.0",
         "100.0",
         "1e-15",
         "20.0",
         "12.000000000000007",
         "15.000000000000018",
         "gateway_offloading"
        ],
        [
         "16",
         "141",
         "no-offloading",
         "16",
         "9",
         "100.0",
         "100.0",
         "1e-15",
         "20.0",
         "12.000000000000007",
         "15.000000000000018",
         "gateway_offloading"
        ],
        [
         "17",
         "189",
         "no-offloading",
         "17",
         "8",
         "100.0",
         "100.0",
         "1e-15",
         "20.0",
         "12.000000000000007",
         "15.000000000000018",
         "gateway_offloading"
        ],
        [
         "18",
         "220",
         "no-offloading",
         "18",
         "7",
         "100.0",
         "100.0",
         "1e-15",
         "20.0",
         "12.000000000000007",
         "15.000000000000018",
         "gateway_offloading"
        ],
        [
         "19",
         "185",
         "no-offloading",
         "19",
         "6",
         "100.0",
         "100.0",
         "1e-15",
         "20.0",
         "12.000000000000007",
         "15.000000000000018",
         "gateway_offloading"
        ],
        [
         "20",
         "222",
         "no-offloading",
         "20",
         "5",
         "100.0",
         "100.0",
         "1e-15",
         "20.0",
         "12.000000000000007",
         "15.000000000000018",
         "gateway_offloading"
        ],
        [
         "21",
         "264",
         "no-offloading",
         "21",
         "4",
         "100.0",
         "100.0",
         "1e-15",
         "20.0",
         "12.000000000000007",
         "15.000000000000018",
         "gateway_offloading"
        ],
        [
         "22",
         "234",
         "no-offloading",
         "22",
         "3",
         "100.0",
         "100.0",
         "1e-15",
         "20.0",
         "12.000000000000007",
         "15.000000000000018",
         "gateway_offloading"
        ],
        [
         "23",
         "267",
         "no-offloading",
         "23",
         "2",
         "100.0",
         "100.0",
         "1e-15",
         "20.0",
         "12.000000000000007",
         "15.000000000000018",
         "gateway_offloading"
        ],
        [
         "24",
         "242",
         "no-offloading",
         "24",
         "1",
         "100.0",
         "100.0",
         "1e-15",
         "20.0",
         "12.000000000000007",
         "15.000000000000018",
         "gateway_offloading"
        ],
        [
         "25",
         "276",
         "no-offloading",
         "25",
         "0",
         "100.0",
         "100.0",
         "1e-15",
         "20.0",
         "12.000000000000007",
         "15.000000000000018",
         "gateway_offloading"
        ],
        [
         "26",
         "34",
         "short-services-offloaded",
         "0",
         "25",
         "100.0",
         "100.0",
         "5.0",
         "20.000000000000014",
         "12.000000000000004",
         "15.0",
         "gateway_offloading"
        ],
        [
         "27",
         "14",
         "short-services-offloaded",
         "1",
         "24",
         "100.0",
         "100.0",
         "5.0",
         "20.000000000000014",
         "12.000000000000004",
         "15.0",
         "gateway_offloading"
        ],
        [
         "28",
         "42",
         "short-services-offloaded",
         "2",
         "23",
         "100.0",
         "100.0",
         "5.0",
         "20.000000000000014",
         "12.000000000000004",
         "15.0",
         "gateway_offloading"
        ],
        [
         "29",
         "73",
         "short-services-offloaded",
         "3",
         "22",
         "100.0",
         "100.0",
         "5.0",
         "20.000000000000014",
         "12.000000000000004",
         "15.0",
         "gateway_offloading"
        ],
        [
         "30",
         "12",
         "short-services-offloaded",
         "4",
         "21",
         "100.0",
         "100.0",
         "5.0",
         "20.000000000000014",
         "12.000000000000004",
         "15.0",
         "gateway_offloading"
        ],
        [
         "31",
         "33",
         "short-services-offloaded",
         "5",
         "20",
         "100.0",
         "100.0",
         "5.0",
         "20.000000000000014",
         "12.000000000000004",
         "15.0",
         "gateway_offloading"
        ],
        [
         "32",
         "64",
         "short-services-offloaded",
         "6",
         "19",
         "100.0",
         "100.0",
         "5.0",
         "20.000000000000014",
         "12.000000000000004",
         "15.0",
         "gateway_offloading"
        ],
        [
         "33",
         "69",
         "short-services-offloaded",
         "7",
         "18",
         "100.0",
         "100.0",
         "5.0",
         "20.000000000000014",
         "12.000000000000004",
         "15.0",
         "gateway_offloading"
        ],
        [
         "34",
         "105",
         "short-services-offloaded",
         "8",
         "17",
         "100.0",
         "100.0",
         "5.0",
         "20.000000000000014",
         "12.000000000000004",
         "15.0",
         "gateway_offloading"
        ],
        [
         "35",
         "70",
         "short-services-offloaded",
         "9",
         "16",
         "100.0",
         "100.0",
         "5.0",
         "20.000000000000014",
         "12.000000000000004",
         "15.0",
         "gateway_offloading"
        ],
        [
         "36",
         "111",
         "short-services-offloaded",
         "10",
         "15",
         "100.0",
         "100.0",
         "5.0",
         "20.000000000000014",
         "12.000000000000004",
         "15.0",
         "gateway_offloading"
        ],
        [
         "37",
         "136",
         "short-services-offloaded",
         "11",
         "14",
         "100.0",
         "100.0",
         "5.0",
         "20.000000000000014",
         "12.000000000000004",
         "15.0",
         "gateway_offloading"
        ],
        [
         "38",
         "123",
         "short-services-offloaded",
         "12",
         "13",
         "100.0",
         "100.0",
         "5.0",
         "20.000000000000014",
         "12.000000000000004",
         "15.0",
         "gateway_offloading"
        ],
        [
         "39",
         "162",
         "short-services-offloaded",
         "13",
         "12",
         "100.0",
         "100.0",
         "5.0",
         "20.000000000000014",
         "12.000000000000004",
         "15.0",
         "gateway_offloading"
        ],
        [
         "40",
         "198",
         "short-services-offloaded",
         "14",
         "11",
         "100.0",
         "100.0",
         "5.0",
         "20.000000000000014",
         "12.000000000000004",
         "15.0",
         "gateway_offloading"
        ],
        [
         "41",
         "147",
         "short-services-offloaded",
         "15",
         "10",
         "100.0",
         "100.0",
         "5.0",
         "20.000000000000014",
         "12.000000000000004",
         "15.0",
         "gateway_offloading"
        ],
        [
         "42",
         "184",
         "short-services-offloaded",
         "16",
         "9",
         "100.0",
         "100.0",
         "5.0",
         "20.000000000000014",
         "12.000000000000004",
         "15.0",
         "gateway_offloading"
        ],
        [
         "43",
         "157",
         "short-services-offloaded",
         "17",
         "8",
         "100.0",
         "100.0",
         "5.0",
         "20.000000000000014",
         "12.000000000000004",
         "15.0",
         "gateway_offloading"
        ],
        [
         "44",
         "199",
         "short-services-offloaded",
         "18",
         "7",
         "100.0",
         "100.0",
         "5.0",
         "20.000000000000014",
         "12.000000000000004",
         "15.0",
         "gateway_offloading"
        ],
        [
         "45",
         "229",
         "short-services-offloaded",
         "19",
         "6",
         "100.0",
         "100.0",
         "5.0",
         "20.000000000000014",
         "12.000000000000004",
         "15.0",
         "gateway_offloading"
        ],
        [
         "46",
         "208",
         "short-services-offloaded",
         "20",
         "5",
         "100.0",
         "100.0",
         "5.0",
         "20.000000000000014",
         "12.000000000000004",
         "15.0",
         "gateway_offloading"
        ],
        [
         "47",
         "238",
         "short-services-offloaded",
         "21",
         "4",
         "100.0",
         "100.0",
         "5.0",
         "20.000000000000014",
         "12.000000000000004",
         "15.0",
         "gateway_offloading"
        ],
        [
         "48",
         "269",
         "short-services-offloaded",
         "22",
         "3",
         "100.0",
         "100.0",
         "5.0",
         "20.000000000000014",
         "12.000000000000004",
         "15.0",
         "gateway_offloading"
        ],
        [
         "49",
         "239",
         "short-services-offloaded",
         "23",
         "2",
         "100.0",
         "100.0",
         "5.0",
         "20.000000000000014",
         "12.000000000000004",
         "15.0",
         "gateway_offloading"
        ]
       ],
       "shape": {
        "columns": 11,
        "rows": 78
       }
      },
      "text/html": [
       "<div>\n",
       "<style scoped>\n",
       "    .dataframe tbody tr th:only-of-type {\n",
       "        vertical-align: middle;\n",
       "    }\n",
       "\n",
       "    .dataframe tbody tr th {\n",
       "        vertical-align: top;\n",
       "    }\n",
       "\n",
       "    .dataframe thead th {\n",
       "        text-align: right;\n",
       "    }\n",
       "</style>\n",
       "<table border=\"1\" class=\"dataframe\">\n",
       "  <thead>\n",
       "    <tr style=\"text-align: right;\">\n",
       "      <th></th>\n",
       "      <th>scenario</th>\n",
       "      <th>policy</th>\n",
       "      <th>N_A</th>\n",
       "      <th>N_B</th>\n",
       "      <th>Z_A</th>\n",
       "      <th>Z_B</th>\n",
       "      <th>S_gw</th>\n",
       "      <th>s_A_s1</th>\n",
       "      <th>s_B_s2</th>\n",
       "      <th>s_B_s3</th>\n",
       "      <th>model</th>\n",
       "    </tr>\n",
       "  </thead>\n",
       "  <tbody>\n",
       "    <tr>\n",
       "      <th>0</th>\n",
       "      <td>4</td>\n",
       "      <td>no-offloading</td>\n",
       "      <td>0</td>\n",
       "      <td>25</td>\n",
       "      <td>100.0</td>\n",
       "      <td>100.0</td>\n",
       "      <td>1.000000e-15</td>\n",
       "      <td>20.0</td>\n",
       "      <td>12.0</td>\n",
       "      <td>15.0</td>\n",
       "      <td>gateway_offloading</td>\n",
       "    </tr>\n",
       "    <tr>\n",
       "      <th>1</th>\n",
       "      <td>28</td>\n",
       "      <td>no-offloading</td>\n",
       "      <td>1</td>\n",
       "      <td>24</td>\n",
       "      <td>100.0</td>\n",
       "      <td>100.0</td>\n",
       "      <td>1.000000e-15</td>\n",
       "      <td>20.0</td>\n",
       "      <td>12.0</td>\n",
       "      <td>15.0</td>\n",
       "      <td>gateway_offloading</td>\n",
       "    </tr>\n",
       "    <tr>\n",
       "      <th>2</th>\n",
       "      <td>153</td>\n",
       "      <td>no-offloading</td>\n",
       "      <td>2</td>\n",
       "      <td>23</td>\n",
       "      <td>100.0</td>\n",
       "      <td>100.0</td>\n",
       "      <td>1.000000e-15</td>\n",
       "      <td>20.0</td>\n",
       "      <td>12.0</td>\n",
       "      <td>15.0</td>\n",
       "      <td>gateway_offloading</td>\n",
       "    </tr>\n",
       "    <tr>\n",
       "      <th>3</th>\n",
       "      <td>26</td>\n",
       "      <td>no-offloading</td>\n",
       "      <td>3</td>\n",
       "      <td>22</td>\n",
       "      <td>100.0</td>\n",
       "      <td>100.0</td>\n",
       "      <td>1.000000e-15</td>\n",
       "      <td>20.0</td>\n",
       "      <td>12.0</td>\n",
       "      <td>15.0</td>\n",
       "      <td>gateway_offloading</td>\n",
       "    </tr>\n",
       "    <tr>\n",
       "      <th>4</th>\n",
       "      <td>53</td>\n",
       "      <td>no-offloading</td>\n",
       "      <td>4</td>\n",
       "      <td>21</td>\n",
       "      <td>100.0</td>\n",
       "      <td>100.0</td>\n",
       "      <td>1.000000e-15</td>\n",
       "      <td>20.0</td>\n",
       "      <td>12.0</td>\n",
       "      <td>15.0</td>\n",
       "      <td>gateway_offloading</td>\n",
       "    </tr>\n",
       "    <tr>\n",
       "      <th>...</th>\n",
       "      <td>...</td>\n",
       "      <td>...</td>\n",
       "      <td>...</td>\n",
       "      <td>...</td>\n",
       "      <td>...</td>\n",
       "      <td>...</td>\n",
       "      <td>...</td>\n",
       "      <td>...</td>\n",
       "      <td>...</td>\n",
       "      <td>...</td>\n",
       "      <td>...</td>\n",
       "    </tr>\n",
       "    <tr>\n",
       "      <th>73</th>\n",
       "      <td>224</td>\n",
       "      <td>long-services-offloaded</td>\n",
       "      <td>21</td>\n",
       "      <td>4</td>\n",
       "      <td>100.0</td>\n",
       "      <td>100.0</td>\n",
       "      <td>1.000000e+01</td>\n",
       "      <td>20.0</td>\n",
       "      <td>12.0</td>\n",
       "      <td>15.0</td>\n",
       "      <td>gateway_offloading</td>\n",
       "    </tr>\n",
       "    <tr>\n",
       "      <th>74</th>\n",
       "      <td>260</td>\n",
       "      <td>long-services-offloaded</td>\n",
       "      <td>22</td>\n",
       "      <td>3</td>\n",
       "      <td>100.0</td>\n",
       "      <td>100.0</td>\n",
       "      <td>1.000000e+01</td>\n",
       "      <td>20.0</td>\n",
       "      <td>12.0</td>\n",
       "      <td>15.0</td>\n",
       "      <td>gateway_offloading</td>\n",
       "    </tr>\n",
       "    <tr>\n",
       "      <th>75</th>\n",
       "      <td>279</td>\n",
       "      <td>long-services-offloaded</td>\n",
       "      <td>23</td>\n",
       "      <td>2</td>\n",
       "      <td>100.0</td>\n",
       "      <td>100.0</td>\n",
       "      <td>1.000000e+01</td>\n",
       "      <td>20.0</td>\n",
       "      <td>12.0</td>\n",
       "      <td>15.0</td>\n",
       "      <td>gateway_offloading</td>\n",
       "    </tr>\n",
       "    <tr>\n",
       "      <th>76</th>\n",
       "      <td>273</td>\n",
       "      <td>long-services-offloaded</td>\n",
       "      <td>24</td>\n",
       "      <td>1</td>\n",
       "      <td>100.0</td>\n",
       "      <td>100.0</td>\n",
       "      <td>1.000000e+01</td>\n",
       "      <td>20.0</td>\n",
       "      <td>12.0</td>\n",
       "      <td>15.0</td>\n",
       "      <td>gateway_offloading</td>\n",
       "    </tr>\n",
       "    <tr>\n",
       "      <th>77</th>\n",
       "      <td>270</td>\n",
       "      <td>long-services-offloaded</td>\n",
       "      <td>25</td>\n",
       "      <td>0</td>\n",
       "      <td>100.0</td>\n",
       "      <td>100.0</td>\n",
       "      <td>1.000000e+01</td>\n",
       "      <td>20.0</td>\n",
       "      <td>12.0</td>\n",
       "      <td>15.0</td>\n",
       "      <td>gateway_offloading</td>\n",
       "    </tr>\n",
       "  </tbody>\n",
       "</table>\n",
       "<p>78 rows × 11 columns</p>\n",
       "</div>"
      ],
      "text/plain": [
       "    scenario                   policy  N_A  N_B    Z_A    Z_B          S_gw  \\\n",
       "0          4            no-offloading    0   25  100.0  100.0  1.000000e-15   \n",
       "1         28            no-offloading    1   24  100.0  100.0  1.000000e-15   \n",
       "2        153            no-offloading    2   23  100.0  100.0  1.000000e-15   \n",
       "3         26            no-offloading    3   22  100.0  100.0  1.000000e-15   \n",
       "4         53            no-offloading    4   21  100.0  100.0  1.000000e-15   \n",
       "..       ...                      ...  ...  ...    ...    ...           ...   \n",
       "73       224  long-services-offloaded   21    4  100.0  100.0  1.000000e+01   \n",
       "74       260  long-services-offloaded   22    3  100.0  100.0  1.000000e+01   \n",
       "75       279  long-services-offloaded   23    2  100.0  100.0  1.000000e+01   \n",
       "76       273  long-services-offloaded   24    1  100.0  100.0  1.000000e+01   \n",
       "77       270  long-services-offloaded   25    0  100.0  100.0  1.000000e+01   \n",
       "\n",
       "    s_A_s1  s_B_s2  s_B_s3               model  \n",
       "0     20.0    12.0    15.0  gateway_offloading  \n",
       "1     20.0    12.0    15.0  gateway_offloading  \n",
       "2     20.0    12.0    15.0  gateway_offloading  \n",
       "3     20.0    12.0    15.0  gateway_offloading  \n",
       "4     20.0    12.0    15.0  gateway_offloading  \n",
       "..     ...     ...     ...                 ...  \n",
       "73    20.0    12.0    15.0  gateway_offloading  \n",
       "74    20.0    12.0    15.0  gateway_offloading  \n",
       "75    20.0    12.0    15.0  gateway_offloading  \n",
       "76    20.0    12.0    15.0  gateway_offloading  \n",
       "77    20.0    12.0    15.0  gateway_offloading  \n",
       "\n",
       "[78 rows x 11 columns]"
      ]
     },
     "execution_count": 3,
     "metadata": {},
     "output_type": "execute_result"
    }
   ],
   "source": [
    "experiments_df"
   ]
  },
  {
   "cell_type": "code",
   "execution_count": 4,
   "metadata": {},
   "outputs": [
    {
     "data": {
      "application/vnd.microsoft.datawrangler.viewer.v0+json": {
       "columns": [
        {
         "name": "index",
         "rawType": "object",
         "type": "string"
        },
        {
         "name": "scenario",
         "rawType": "float64",
         "type": "float"
        },
        {
         "name": "N_A",
         "rawType": "float64",
         "type": "float"
        },
        {
         "name": "N_B",
         "rawType": "float64",
         "type": "float"
        },
        {
         "name": "Z_A",
         "rawType": "float64",
         "type": "float"
        },
        {
         "name": "Z_B",
         "rawType": "float64",
         "type": "float"
        },
        {
         "name": "S_gw",
         "rawType": "float64",
         "type": "float"
        },
        {
         "name": "s_A_s1",
         "rawType": "float64",
         "type": "float"
        },
        {
         "name": "s_B_s2",
         "rawType": "float64",
         "type": "float"
        },
        {
         "name": "s_B_s3",
         "rawType": "float64",
         "type": "float"
        }
       ],
       "conversionMethod": "pd.DataFrame",
       "ref": "b26b3bd4-38cc-4ef1-8c96-5fa17bf792c8",
       "rows": [
        [
         "count",
         "78.0",
         "78.0",
         "78.0",
         "78.0",
         "78.0",
         "78.0",
         "78.0",
         "78.0",
         "78.0"
        ],
        [
         "mean",
         "143.05128205128204",
         "12.5",
         "12.5",
         "100.0",
         "100.0",
         "5.0",
         "20.000000000000007",
         "12.000000000000004",
         "15.000000000000005"
        ],
        [
         "std",
         "83.70602508003014",
         "7.548544196102947",
         "7.548544196102947",
         "0.0",
         "0.0",
         "4.10890701806659",
         "7.151417658806686e-15",
         "2.919554033600911e-15",
         "8.449070330461868e-15"
        ],
        [
         "min",
         "4.0",
         "0.0",
         "0.0",
         "100.0",
         "100.0",
         "1e-15",
         "20.0",
         "12.0",
         "15.0"
        ],
        [
         "25%",
         "70.25",
         "6.0",
         "6.0",
         "100.0",
         "100.0",
         "1e-15",
         "20.0",
         "12.0",
         "15.0"
        ],
        [
         "50%",
         "143.5",
         "12.5",
         "12.5",
         "100.0",
         "100.0",
         "5.0",
         "20.0",
         "12.000000000000004",
         "15.0"
        ],
        [
         "75%",
         "214.75",
         "19.0",
         "19.0",
         "100.0",
         "100.0",
         "10.0",
         "20.000000000000014",
         "12.000000000000007",
         "15.000000000000018"
        ],
        [
         "max",
         "281.0",
         "25.0",
         "25.0",
         "100.0",
         "100.0",
         "10.0",
         "20.000000000000014",
         "12.000000000000007",
         "15.000000000000018"
        ]
       ],
       "shape": {
        "columns": 9,
        "rows": 8
       }
      },
      "text/html": [
       "<div>\n",
       "<style scoped>\n",
       "    .dataframe tbody tr th:only-of-type {\n",
       "        vertical-align: middle;\n",
       "    }\n",
       "\n",
       "    .dataframe tbody tr th {\n",
       "        vertical-align: top;\n",
       "    }\n",
       "\n",
       "    .dataframe thead th {\n",
       "        text-align: right;\n",
       "    }\n",
       "</style>\n",
       "<table border=\"1\" class=\"dataframe\">\n",
       "  <thead>\n",
       "    <tr style=\"text-align: right;\">\n",
       "      <th></th>\n",
       "      <th>scenario</th>\n",
       "      <th>N_A</th>\n",
       "      <th>N_B</th>\n",
       "      <th>Z_A</th>\n",
       "      <th>Z_B</th>\n",
       "      <th>S_gw</th>\n",
       "      <th>s_A_s1</th>\n",
       "      <th>s_B_s2</th>\n",
       "      <th>s_B_s3</th>\n",
       "    </tr>\n",
       "  </thead>\n",
       "  <tbody>\n",
       "    <tr>\n",
       "      <th>count</th>\n",
       "      <td>78.000000</td>\n",
       "      <td>78.000000</td>\n",
       "      <td>78.000000</td>\n",
       "      <td>78.0</td>\n",
       "      <td>78.0</td>\n",
       "      <td>7.800000e+01</td>\n",
       "      <td>7.800000e+01</td>\n",
       "      <td>7.800000e+01</td>\n",
       "      <td>7.800000e+01</td>\n",
       "    </tr>\n",
       "    <tr>\n",
       "      <th>mean</th>\n",
       "      <td>143.051282</td>\n",
       "      <td>12.500000</td>\n",
       "      <td>12.500000</td>\n",
       "      <td>100.0</td>\n",
       "      <td>100.0</td>\n",
       "      <td>5.000000e+00</td>\n",
       "      <td>2.000000e+01</td>\n",
       "      <td>1.200000e+01</td>\n",
       "      <td>1.500000e+01</td>\n",
       "    </tr>\n",
       "    <tr>\n",
       "      <th>std</th>\n",
       "      <td>83.706025</td>\n",
       "      <td>7.548544</td>\n",
       "      <td>7.548544</td>\n",
       "      <td>0.0</td>\n",
       "      <td>0.0</td>\n",
       "      <td>4.108907e+00</td>\n",
       "      <td>7.151418e-15</td>\n",
       "      <td>2.919554e-15</td>\n",
       "      <td>8.449070e-15</td>\n",
       "    </tr>\n",
       "    <tr>\n",
       "      <th>min</th>\n",
       "      <td>4.000000</td>\n",
       "      <td>0.000000</td>\n",
       "      <td>0.000000</td>\n",
       "      <td>100.0</td>\n",
       "      <td>100.0</td>\n",
       "      <td>1.000000e-15</td>\n",
       "      <td>2.000000e+01</td>\n",
       "      <td>1.200000e+01</td>\n",
       "      <td>1.500000e+01</td>\n",
       "    </tr>\n",
       "    <tr>\n",
       "      <th>25%</th>\n",
       "      <td>70.250000</td>\n",
       "      <td>6.000000</td>\n",
       "      <td>6.000000</td>\n",
       "      <td>100.0</td>\n",
       "      <td>100.0</td>\n",
       "      <td>1.000000e-15</td>\n",
       "      <td>2.000000e+01</td>\n",
       "      <td>1.200000e+01</td>\n",
       "      <td>1.500000e+01</td>\n",
       "    </tr>\n",
       "    <tr>\n",
       "      <th>50%</th>\n",
       "      <td>143.500000</td>\n",
       "      <td>12.500000</td>\n",
       "      <td>12.500000</td>\n",
       "      <td>100.0</td>\n",
       "      <td>100.0</td>\n",
       "      <td>5.000000e+00</td>\n",
       "      <td>2.000000e+01</td>\n",
       "      <td>1.200000e+01</td>\n",
       "      <td>1.500000e+01</td>\n",
       "    </tr>\n",
       "    <tr>\n",
       "      <th>75%</th>\n",
       "      <td>214.750000</td>\n",
       "      <td>19.000000</td>\n",
       "      <td>19.000000</td>\n",
       "      <td>100.0</td>\n",
       "      <td>100.0</td>\n",
       "      <td>1.000000e+01</td>\n",
       "      <td>2.000000e+01</td>\n",
       "      <td>1.200000e+01</td>\n",
       "      <td>1.500000e+01</td>\n",
       "    </tr>\n",
       "    <tr>\n",
       "      <th>max</th>\n",
       "      <td>281.000000</td>\n",
       "      <td>25.000000</td>\n",
       "      <td>25.000000</td>\n",
       "      <td>100.0</td>\n",
       "      <td>100.0</td>\n",
       "      <td>1.000000e+01</td>\n",
       "      <td>2.000000e+01</td>\n",
       "      <td>1.200000e+01</td>\n",
       "      <td>1.500000e+01</td>\n",
       "    </tr>\n",
       "  </tbody>\n",
       "</table>\n",
       "</div>"
      ],
      "text/plain": [
       "         scenario        N_A        N_B    Z_A    Z_B          S_gw  \\\n",
       "count   78.000000  78.000000  78.000000   78.0   78.0  7.800000e+01   \n",
       "mean   143.051282  12.500000  12.500000  100.0  100.0  5.000000e+00   \n",
       "std     83.706025   7.548544   7.548544    0.0    0.0  4.108907e+00   \n",
       "min      4.000000   0.000000   0.000000  100.0  100.0  1.000000e-15   \n",
       "25%     70.250000   6.000000   6.000000  100.0  100.0  1.000000e-15   \n",
       "50%    143.500000  12.500000  12.500000  100.0  100.0  5.000000e+00   \n",
       "75%    214.750000  19.000000  19.000000  100.0  100.0  1.000000e+01   \n",
       "max    281.000000  25.000000  25.000000  100.0  100.0  1.000000e+01   \n",
       "\n",
       "             s_A_s1        s_B_s2        s_B_s3  \n",
       "count  7.800000e+01  7.800000e+01  7.800000e+01  \n",
       "mean   2.000000e+01  1.200000e+01  1.500000e+01  \n",
       "std    7.151418e-15  2.919554e-15  8.449070e-15  \n",
       "min    2.000000e+01  1.200000e+01  1.500000e+01  \n",
       "25%    2.000000e+01  1.200000e+01  1.500000e+01  \n",
       "50%    2.000000e+01  1.200000e+01  1.500000e+01  \n",
       "75%    2.000000e+01  1.200000e+01  1.500000e+01  \n",
       "max    2.000000e+01  1.200000e+01  1.500000e+01  "
      ]
     },
     "execution_count": 4,
     "metadata": {},
     "output_type": "execute_result"
    }
   ],
   "source": [
    "experiments_df.describe()"
   ]
  },
  {
   "cell_type": "code",
   "execution_count": 5,
   "metadata": {},
   "outputs": [],
   "source": [
    "# experiments_df.hist(column='S_gw', bins=15)\n",
    "# experiments_df.hist(column=['r_A_s1', 'r_B_s2', 'r_B_s3'])\n",
    "# experiments_df.hist(column=['N_A', 'N_B'])"
   ]
  },
  {
   "cell_type": "code",
   "execution_count": 6,
   "metadata": {},
   "outputs": [
    {
     "name": "stdout",
     "output_type": "stream",
     "text": [
      "<class 'pandas.core.frame.DataFrame'>\n",
      "RangeIndex: 78 entries, 0 to 77\n",
      "Data columns (total 11 columns):\n",
      " #   Column    Non-Null Count  Dtype  \n",
      "---  ------    --------------  -----  \n",
      " 0   scenario  78 non-null     int64  \n",
      " 1   policy    78 non-null     object \n",
      " 2   N_A       78 non-null     int64  \n",
      " 3   N_B       78 non-null     int64  \n",
      " 4   Z_A       78 non-null     float64\n",
      " 5   Z_B       78 non-null     float64\n",
      " 6   S_gw      78 non-null     float64\n",
      " 7   s_A_s1    78 non-null     float64\n",
      " 8   s_B_s2    78 non-null     float64\n",
      " 9   s_B_s3    78 non-null     float64\n",
      " 10  model     78 non-null     object \n",
      "dtypes: float64(6), int64(3), object(2)\n",
      "memory usage: 6.8+ KB\n"
     ]
    }
   ],
   "source": [
    "experiments_df.info()"
   ]
  },
  {
   "cell_type": "code",
   "execution_count": 7,
   "metadata": {},
   "outputs": [
    {
     "data": {
      "application/vnd.microsoft.datawrangler.viewer.v0+json": {
       "columns": [
        {
         "name": "index",
         "rawType": "int64",
         "type": "integer"
        },
        {
         "name": "response_time",
         "rawType": "float64",
         "type": "float"
        },
        {
         "name": "utilization",
         "rawType": "float64",
         "type": "float"
        }
       ],
       "conversionMethod": "pd.DataFrame",
       "ref": "51f874bd-51a2-4457-b154-ab234ba96ce4",
       "rows": [
        [
         "0",
         "375.0186560920365",
         "1.0299537000181792e-20"
        ],
        [
         "1",
         "334.0063728056704",
         "8.818039215776143e-20"
        ],
        [
         "2",
         "302.1942989579757",
         "6.634741738275578e-20"
        ],
        [
         "3",
         "278.9524234231001",
         "1.9944180370627322e-20"
        ],
        [
         "4",
         "259.7478140099799",
         "7.656940819601363e-20"
        ],
        [
         "5",
         "245.10443572317047",
         "8.128605885835807e-20"
        ],
        [
         "6",
         "237.41360867426152",
         "5.008275357220816e-20"
        ],
        [
         "7",
         "227.6331373795778",
         "4.390693536178992e-20"
        ],
        [
         "8",
         "224.4126475051193",
         "2.4787038228357654e-20"
        ],
        [
         "9",
         "222.3479411293575",
         "2.3949155325935804e-20"
        ],
        [
         "10",
         "220.62421405777985",
         "4.99025506089162e-20"
        ],
        [
         "11",
         "222.6388482938364",
         "8.898927593481799e-20"
        ],
        [
         "12",
         "223.22427617352227",
         "3.9713989807745055e-20"
        ],
        [
         "13",
         "226.47520835100968",
         "9.695429605217231e-21"
        ],
        [
         "14",
         "231.3990722934055",
         "3.1171676135388473e-20"
        ],
        [
         "15",
         "236.1213025454322",
         "0.0"
        ],
        [
         "16",
         "240.3961689832601",
         "1.2997435745635691e-19"
        ],
        [
         "17",
         "250.4149873348863",
         "8.610656573633095e-20"
        ],
        [
         "18",
         "261.0988700768346",
         "4.6055183779677023e-20"
        ],
        [
         "19",
         "280.0161358300448",
         "5.454378436335924e-20"
        ],
        [
         "20",
         "293.84715746940344",
         "6.094989835459831e-20"
        ],
        [
         "21",
         "316.2675881034518",
         "5.229478126759621e-20"
        ],
        [
         "22",
         "346.6120789156154",
         "2.5933268721013582e-20"
        ],
        [
         "23",
         "381.8796651052385",
         "7.548648294978485e-20"
        ],
        [
         "24",
         "430.9733014952456",
         "5.115152908387148e-20"
        ],
        [
         "25",
         "501.36038476476057",
         "3.5669383782473434e-20"
        ],
        [
         "26",
         "251.20532626709647",
         "0.4944017481859444"
        ],
        [
         "27",
         "232.8660356508184",
         "0.5348313834122862"
        ],
        [
         "28",
         "217.7752845701236",
         "0.5780067566217283"
        ],
        [
         "29",
         "204.96635463858647",
         "0.6093635587496342"
        ],
        [
         "30",
         "194.7559316633069",
         "0.6430208345759617"
        ],
        [
         "31",
         "188.547683281982",
         "0.659224233977033"
        ],
        [
         "32",
         "180.93741102143977",
         "0.6851631956855192"
        ],
        [
         "33",
         "177.0578579801721",
         "0.6975219066370918"
        ],
        [
         "34",
         "172.43401534146636",
         "0.7232917761451475"
        ],
        [
         "35",
         "171.87854422252835",
         "0.725933358761412"
        ],
        [
         "36",
         "171.67985219100473",
         "0.7354720413098462"
        ],
        [
         "37",
         "171.97495686259688",
         "0.7356760419544068"
        ],
        [
         "38",
         "172.89675071888038",
         "0.7264113481483517"
        ],
        [
         "39",
         "177.3077081425008",
         "0.6988073934634219"
        ],
        [
         "40",
         "180.82158409512184",
         "0.690278948722601"
        ],
        [
         "41",
         "187.51244041708512",
         "0.6653787504470017"
        ],
        [
         "42",
         "195.75529490787144",
         "0.6449009405695286"
        ],
        [
         "43",
         "202.8252236319972",
         "0.6139890845005503"
        ],
        [
         "44",
         "211.78462781968284",
         "0.5853125496947651"
        ],
        [
         "45",
         "225.55983127614277",
         "0.5547426537808161"
        ],
        [
         "46",
         "240.3278875193602",
         "0.5163987483277738"
        ],
        [
         "47",
         "255.5353261229116",
         "0.4859872170051706"
        ],
        [
         "48",
         "280.4117229334421",
         "0.4473182600492204"
        ],
        [
         "49",
         "303.414586811943",
         "0.4109462424782839"
        ]
       ],
       "shape": {
        "columns": 2,
        "rows": 78
       }
      },
      "text/html": [
       "<div>\n",
       "<style scoped>\n",
       "    .dataframe tbody tr th:only-of-type {\n",
       "        vertical-align: middle;\n",
       "    }\n",
       "\n",
       "    .dataframe tbody tr th {\n",
       "        vertical-align: top;\n",
       "    }\n",
       "\n",
       "    .dataframe thead th {\n",
       "        text-align: right;\n",
       "    }\n",
       "</style>\n",
       "<table border=\"1\" class=\"dataframe\">\n",
       "  <thead>\n",
       "    <tr style=\"text-align: right;\">\n",
       "      <th></th>\n",
       "      <th>response_time</th>\n",
       "      <th>utilization</th>\n",
       "    </tr>\n",
       "  </thead>\n",
       "  <tbody>\n",
       "    <tr>\n",
       "      <th>0</th>\n",
       "      <td>375.018656</td>\n",
       "      <td>1.029954e-20</td>\n",
       "    </tr>\n",
       "    <tr>\n",
       "      <th>1</th>\n",
       "      <td>334.006373</td>\n",
       "      <td>8.818039e-20</td>\n",
       "    </tr>\n",
       "    <tr>\n",
       "      <th>2</th>\n",
       "      <td>302.194299</td>\n",
       "      <td>6.634742e-20</td>\n",
       "    </tr>\n",
       "    <tr>\n",
       "      <th>3</th>\n",
       "      <td>278.952423</td>\n",
       "      <td>1.994418e-20</td>\n",
       "    </tr>\n",
       "    <tr>\n",
       "      <th>4</th>\n",
       "      <td>259.747814</td>\n",
       "      <td>7.656941e-20</td>\n",
       "    </tr>\n",
       "    <tr>\n",
       "      <th>...</th>\n",
       "      <td>...</td>\n",
       "      <td>...</td>\n",
       "    </tr>\n",
       "    <tr>\n",
       "      <th>73</th>\n",
       "      <td>250.986424</td>\n",
       "      <td>9.946960e-01</td>\n",
       "    </tr>\n",
       "    <tr>\n",
       "      <th>74</th>\n",
       "      <td>250.842555</td>\n",
       "      <td>9.920406e-01</td>\n",
       "    </tr>\n",
       "    <tr>\n",
       "      <th>75</th>\n",
       "      <td>256.493763</td>\n",
       "      <td>9.855351e-01</td>\n",
       "    </tr>\n",
       "    <tr>\n",
       "      <th>76</th>\n",
       "      <td>259.012525</td>\n",
       "      <td>9.577435e-01</td>\n",
       "    </tr>\n",
       "    <tr>\n",
       "      <th>77</th>\n",
       "      <td>268.207337</td>\n",
       "      <td>9.375681e-01</td>\n",
       "    </tr>\n",
       "  </tbody>\n",
       "</table>\n",
       "<p>78 rows × 2 columns</p>\n",
       "</div>"
      ],
      "text/plain": [
       "    response_time   utilization\n",
       "0      375.018656  1.029954e-20\n",
       "1      334.006373  8.818039e-20\n",
       "2      302.194299  6.634742e-20\n",
       "3      278.952423  1.994418e-20\n",
       "4      259.747814  7.656941e-20\n",
       "..            ...           ...\n",
       "73     250.986424  9.946960e-01\n",
       "74     250.842555  9.920406e-01\n",
       "75     256.493763  9.855351e-01\n",
       "76     259.012525  9.577435e-01\n",
       "77     268.207337  9.375681e-01\n",
       "\n",
       "[78 rows x 2 columns]"
      ]
     },
     "execution_count": 7,
     "metadata": {},
     "output_type": "execute_result"
    }
   ],
   "source": [
    "outcomes_df"
   ]
  },
  {
   "cell_type": "code",
   "execution_count": 8,
   "metadata": {},
   "outputs": [
    {
     "data": {
      "image/png": "[encoded data removed]",
      "text/plain": [
       "<Figure size 640x480 with 2 Axes>"
      ]
     },
     "metadata": {},
     "output_type": "display_data"
    }
   ],
   "source": [
    "# Show distribution of the quality-attribute metrics\n",
    "outcomes_df.hist(bins=20, grid=False)\n",
    "plt.show()"
   ]
  },
  {
   "cell_type": "code",
   "execution_count": 9,
   "metadata": {},
   "outputs": [
    {
     "data": {
      "image/png": "[encoded data removed]",
      "text/plain": [
       "<Figure size 640x480 with 1 Axes>"
      ]
     },
     "metadata": {},
     "output_type": "display_data"
    }
   ],
   "source": [
    "scaler = StandardScaler()\n",
    "scaled_data = scaler.fit_transform(outcomes_df)\n",
    "scaled_df = pd.DataFrame(scaled_data, columns=outcomes_df.columns)\n",
    "scaled_df.boxplot(grid=False)\n",
    "plt.title('gateway offloading (after standarization)')\n",
    "plt.show()\n",
    "\n",
    "# It might need to filter outliers"
   ]
  },
  {
   "cell_type": "code",
   "execution_count": 10,
   "metadata": {},
   "outputs": [
    {
     "data": {
      "image/png": "[encoded data removed]",
      "text/plain": [
       "<Figure size 500x300 with 2 Axes>"
      ]
     },
     "metadata": {},
     "output_type": "display_data"
    },
    {
     "data": {
      "application/vnd.microsoft.datawrangler.viewer.v0+json": {
       "columns": [
        {
         "name": "index",
         "rawType": "object",
         "type": "string"
        },
        {
         "name": "response_time",
         "rawType": "float64",
         "type": "float"
        },
        {
         "name": "utilization",
         "rawType": "float64",
         "type": "float"
        }
       ],
       "conversionMethod": "pd.DataFrame",
       "ref": "063a9846-b2de-4690-a0e7-f07751033766",
       "rows": [
        [
         "N_A",
         "0.3751519097772224",
         "0.020506259748223312"
        ],
        [
         "N_B",
         "0.3219556092889025",
         "0.021384949287594185"
        ],
        [
         "S_gw",
         "0.1419613404437817",
         "0.6214396913023947"
        ],
        [
         "Z_A",
         "0.0",
         "0.0"
        ],
        [
         "Z_B",
         "0.0",
         "0.0"
        ],
        [
         "policy",
         "0.16093114049009347",
         "0.33666909966178776"
        ],
        [
         "s_A_s1",
         "0.0",
         "0.0"
        ],
        [
         "s_B_s2",
         "0.0",
         "0.0"
        ],
        [
         "s_B_s3",
         "0.0",
         "0.0"
        ]
       ],
       "shape": {
        "columns": 2,
        "rows": 9
       }
      },
      "text/html": [
       "<div>\n",
       "<style scoped>\n",
       "    .dataframe tbody tr th:only-of-type {\n",
       "        vertical-align: middle;\n",
       "    }\n",
       "\n",
       "    .dataframe tbody tr th {\n",
       "        vertical-align: top;\n",
       "    }\n",
       "\n",
       "    .dataframe thead th {\n",
       "        text-align: right;\n",
       "    }\n",
       "</style>\n",
       "<table border=\"1\" class=\"dataframe\">\n",
       "  <thead>\n",
       "    <tr style=\"text-align: right;\">\n",
       "      <th></th>\n",
       "      <th>response_time</th>\n",
       "      <th>utilization</th>\n",
       "    </tr>\n",
       "    <tr>\n",
       "      <th>0</th>\n",
       "      <th></th>\n",
       "      <th></th>\n",
       "    </tr>\n",
       "  </thead>\n",
       "  <tbody>\n",
       "    <tr>\n",
       "      <th>N_A</th>\n",
       "      <td>0.375152</td>\n",
       "      <td>0.020506</td>\n",
       "    </tr>\n",
       "    <tr>\n",
       "      <th>N_B</th>\n",
       "      <td>0.321956</td>\n",
       "      <td>0.021385</td>\n",
       "    </tr>\n",
       "    <tr>\n",
       "      <th>S_gw</th>\n",
       "      <td>0.141961</td>\n",
       "      <td>0.621440</td>\n",
       "    </tr>\n",
       "    <tr>\n",
       "      <th>Z_A</th>\n",
       "      <td>0.000000</td>\n",
       "      <td>0.000000</td>\n",
       "    </tr>\n",
       "    <tr>\n",
       "      <th>Z_B</th>\n",
       "      <td>0.000000</td>\n",
       "      <td>0.000000</td>\n",
       "    </tr>\n",
       "    <tr>\n",
       "      <th>policy</th>\n",
       "      <td>0.160931</td>\n",
       "      <td>0.336669</td>\n",
       "    </tr>\n",
       "    <tr>\n",
       "      <th>s_A_s1</th>\n",
       "      <td>0.000000</td>\n",
       "      <td>0.000000</td>\n",
       "    </tr>\n",
       "    <tr>\n",
       "      <th>s_B_s2</th>\n",
       "      <td>0.000000</td>\n",
       "      <td>0.000000</td>\n",
       "    </tr>\n",
       "    <tr>\n",
       "      <th>s_B_s3</th>\n",
       "      <td>0.000000</td>\n",
       "      <td>0.000000</td>\n",
       "    </tr>\n",
       "  </tbody>\n",
       "</table>\n",
       "</div>"
      ],
      "text/plain": [
       "        response_time  utilization\n",
       "0                                 \n",
       "N_A          0.375152     0.020506\n",
       "N_B          0.321956     0.021385\n",
       "S_gw         0.141961     0.621440\n",
       "Z_A          0.000000     0.000000\n",
       "Z_B          0.000000     0.000000\n",
       "policy       0.160931     0.336669\n",
       "s_A_s1       0.000000     0.000000\n",
       "s_B_s2       0.000000     0.000000\n",
       "s_B_s3       0.000000     0.000000"
      ]
     },
     "execution_count": 10,
     "metadata": {},
     "output_type": "execute_result"
    }
   ],
   "source": [
    "policy_size = (5,3)\n",
    "filter_params = None # Screening most important parameters \n",
    "fs = show_feature_scores(my_space, title='Feature scoring (gateway offloading)', size=policy_size) #, filename=None)  \n",
    "fs"
   ]
  },
  {
   "cell_type": "code",
   "execution_count": 11,
   "metadata": {},
   "outputs": [
    {
     "data": {
      "text/plain": [
       "['long-services-offloaded', 'short-services-offloaded', 'no-offloading']"
      ]
     },
     "execution_count": 11,
     "metadata": {},
     "output_type": "execute_result"
    }
   ],
   "source": [
    "my_policies = my_space.get_configurations()\n",
    "my_policies"
   ]
  },
  {
   "cell_type": "code",
   "execution_count": 12,
   "metadata": {},
   "outputs": [
    {
     "data": {
      "application/vnd.microsoft.datawrangler.viewer.v0+json": {
       "columns": [
        {
         "name": "index",
         "rawType": "object",
         "type": "string"
        },
        {
         "name": "response_time",
         "rawType": "float64",
         "type": "float"
        },
        {
         "name": "utilization",
         "rawType": "float64",
         "type": "float"
        }
       ],
       "conversionMethod": "pd.DataFrame",
       "ref": "730bdcf0-01e2-44eb-8ae9-fd02b7c40920",
       "rows": [
        [
         "count",
         "78.0",
         "78.0"
        ],
        [
         "mean",
         "251.0426353889316",
         "0.530974254369684"
        ],
        [
         "std",
         "58.126933880536505",
         "0.4170127898276473"
        ],
        [
         "min",
         "171.67985219100473",
         "0.0"
        ],
        [
         "25%",
         "222.78520526375786",
         "7.575721426134204e-20"
        ],
        [
         "50%",
         "249.18368383536267",
         "0.628504959538256"
        ],
        [
         "75%",
         "256.2541538131211",
         "0.996824759565657"
        ],
        [
         "max",
         "501.36038476476057",
         "0.9999952966335196"
        ]
       ],
       "shape": {
        "columns": 2,
        "rows": 8
       }
      },
      "text/html": [
       "<div>\n",
       "<style scoped>\n",
       "    .dataframe tbody tr th:only-of-type {\n",
       "        vertical-align: middle;\n",
       "    }\n",
       "\n",
       "    .dataframe tbody tr th {\n",
       "        vertical-align: top;\n",
       "    }\n",
       "\n",
       "    .dataframe thead th {\n",
       "        text-align: right;\n",
       "    }\n",
       "</style>\n",
       "<table border=\"1\" class=\"dataframe\">\n",
       "  <thead>\n",
       "    <tr style=\"text-align: right;\">\n",
       "      <th></th>\n",
       "      <th>response_time</th>\n",
       "      <th>utilization</th>\n",
       "    </tr>\n",
       "  </thead>\n",
       "  <tbody>\n",
       "    <tr>\n",
       "      <th>count</th>\n",
       "      <td>78.000000</td>\n",
       "      <td>7.800000e+01</td>\n",
       "    </tr>\n",
       "    <tr>\n",
       "      <th>mean</th>\n",
       "      <td>251.042635</td>\n",
       "      <td>5.309743e-01</td>\n",
       "    </tr>\n",
       "    <tr>\n",
       "      <th>std</th>\n",
       "      <td>58.126934</td>\n",
       "      <td>4.170128e-01</td>\n",
       "    </tr>\n",
       "    <tr>\n",
       "      <th>min</th>\n",
       "      <td>171.679852</td>\n",
       "      <td>0.000000e+00</td>\n",
       "    </tr>\n",
       "    <tr>\n",
       "      <th>25%</th>\n",
       "      <td>222.785205</td>\n",
       "      <td>7.575721e-20</td>\n",
       "    </tr>\n",
       "    <tr>\n",
       "      <th>50%</th>\n",
       "      <td>249.183684</td>\n",
       "      <td>6.285050e-01</td>\n",
       "    </tr>\n",
       "    <tr>\n",
       "      <th>75%</th>\n",
       "      <td>256.254154</td>\n",
       "      <td>9.968248e-01</td>\n",
       "    </tr>\n",
       "    <tr>\n",
       "      <th>max</th>\n",
       "      <td>501.360385</td>\n",
       "      <td>9.999953e-01</td>\n",
       "    </tr>\n",
       "  </tbody>\n",
       "</table>\n",
       "</div>"
      ],
      "text/plain": [
       "       response_time   utilization\n",
       "count      78.000000  7.800000e+01\n",
       "mean      251.042635  5.309743e-01\n",
       "std        58.126934  4.170128e-01\n",
       "min       171.679852  0.000000e+00\n",
       "25%       222.785205  7.575721e-20\n",
       "50%       249.183684  6.285050e-01\n",
       "75%       256.254154  9.968248e-01\n",
       "max       501.360385  9.999953e-01"
      ]
     },
     "execution_count": 12,
     "metadata": {},
     "output_type": "execute_result"
    }
   ],
   "source": [
    "outcomes_df.describe()"
   ]
  },
  {
   "cell_type": "code",
   "execution_count": 13,
   "metadata": {},
   "outputs": [
    {
     "name": "stdout",
     "output_type": "stream",
     "text": [
      "Absolute ranges: [(170.0, 505.0), (0.0, 1.0)]\n",
      "response_time [169.9, 281.6333333333333, 393.3666666666667, 505.1]\n",
      "utilization [-0.1, 0.30000000000000004, 0.7000000000000002, 1.1]\n"
     ]
    },
    {
     "data": {
      "image/png": "[encoded data removed]",
      "text/plain": [
       "<Figure size 500x500 with 2 Axes>"
      ]
     },
     "metadata": {},
     "output_type": "display_data"
    }
   ],
   "source": [
    "# Setting the ranges for the labels of quality attributes\n",
    "MIN_RESPONSE_TIME, MAX_RESPONSE_TIME = (170.0, 505.0)\n",
    "MIN_UTILIZATION, MAX_UTILIZATION = (0.0, 1.0)\n",
    "MIN_MAX_RANGES = [(MIN_RESPONSE_TIME, MAX_RESPONSE_TIME), (MIN_UTILIZATION, MAX_UTILIZATION)]\n",
    "print('Absolute ranges:', MIN_MAX_RANGES)\n",
    "\n",
    "_ = show_outcome_distributions(my_space, mins_maxs=MIN_MAX_RANGES, size=(5,5))"
   ]
  },
  {
   "cell_type": "code",
   "execution_count": 14,
   "metadata": {},
   "outputs": [
    {
     "data": {
      "image/png": "[encoded data removed]",
      "text/plain": [
       "<Figure size 600x600 with 1 Axes>"
      ]
     },
     "metadata": {},
     "output_type": "display_data"
    }
   ],
   "source": [
    "df = outcomes_df.copy()\n",
    "df['decision'] = experiments_df['policy']\n",
    "color_key = {'long-services-offloaded': 'red',\n",
    "             'short-services-offloaded': 'blue',\n",
    "             'no-offloading': 'green'}\n",
    "show_quality_attribute_space2D(df, MIN_MAX_RANGES, alpha=0.7,color_key=color_key)"
   ]
  },
  {
   "cell_type": "code",
   "execution_count": 15,
   "metadata": {},
   "outputs": [
    {
     "name": "stdout",
     "output_type": "stream",
     "text": [
      "Experiments: (78, 11)\n"
     ]
    },
    {
     "data": {
      "text/plain": [
       "Counter({'fast,high': 31,\n",
       "         'fast,average': 18,\n",
       "         'fast,low': 17,\n",
       "         'average,low': 7,\n",
       "         'average,average': 3,\n",
       "         'slow,low': 2})"
      ]
     },
     "execution_count": 15,
     "metadata": {},
     "output_type": "execute_result"
    }
   ],
   "source": [
    "# Count feasible tradeoffs in the dataset\n",
    "_ = my_space.discretize_outcomes(mins_maxs=MIN_MAX_RANGES)\n",
    "print(\"Experiments:\", experiments_df.shape)\n",
    "my_space.available_tradeoffs_\n"
   ]
  },
  {
   "cell_type": "code",
   "execution_count": 16,
   "metadata": {},
   "outputs": [
    {
     "name": "stdout",
     "output_type": "stream",
     "text": [
      "(78, 13) 78\n",
      "Removing outliers ... 3\n",
      "Instances to remove (outliers): {24, 25}\n",
      "Instances to remove (not enough tradeoffs): {24, 25}\n",
      "{'fast,low', 'average,low', 'fast,average', 'average,average', 'fast,high'}\n",
      "(76, 13) 76\n",
      "(45, 13) (45, 2) (31, 13) (31, 2)\n"
     ]
    }
   ],
   "source": [
    "# Split dataset for ML analysis (train/test sets). Also outliers removal\n",
    "X_train, X_test, y_train, y_test = my_space.split_dataset(test_size=0.4, remove_outliers=3)\n",
    "print(X_train.shape, y_train.shape, X_test.shape, y_test.shape)"
   ]
  },
  {
   "cell_type": "code",
   "execution_count": 17,
   "metadata": {},
   "outputs": [
    {
     "data": {
      "application/vnd.microsoft.datawrangler.viewer.v0+json": {
       "columns": [
        {
         "name": "index",
         "rawType": "object",
         "type": "string"
        },
        {
         "name": "response_time",
         "rawType": "float64",
         "type": "float"
        },
        {
         "name": "utilization",
         "rawType": "float64",
         "type": "float"
        }
       ],
       "conversionMethod": "pd.DataFrame",
       "ref": "091a4d1b-4d59-4a8b-bfd4-c11eb8d30e89",
       "rows": [
        [
         "count",
         "45.0",
         "45.0"
        ],
        [
         "mean",
         "242.90362124590732",
         "0.5386294991431464"
        ],
        [
         "std",
         "46.49553590926306",
         "0.40662501320290045"
        ],
        [
         "min",
         "171.87854422252835",
         "9.695429605217231e-21"
        ],
        [
         "25%",
         "222.6388482938364",
         "8.818039215776143e-20"
        ],
        [
         "50%",
         "249.38128163478407",
         "0.6449009405695286"
        ],
        [
         "75%",
         "255.5353261229116",
         "0.9946959985123888"
        ],
        [
         "max",
         "375.0186560920365",
         "0.9999952966335196"
        ]
       ],
       "shape": {
        "columns": 2,
        "rows": 8
       }
      },
      "text/html": [
       "<div>\n",
       "<style scoped>\n",
       "    .dataframe tbody tr th:only-of-type {\n",
       "        vertical-align: middle;\n",
       "    }\n",
       "\n",
       "    .dataframe tbody tr th {\n",
       "        vertical-align: top;\n",
       "    }\n",
       "\n",
       "    .dataframe thead th {\n",
       "        text-align: right;\n",
       "    }\n",
       "</style>\n",
       "<table border=\"1\" class=\"dataframe\">\n",
       "  <thead>\n",
       "    <tr style=\"text-align: right;\">\n",
       "      <th></th>\n",
       "      <th>response_time</th>\n",
       "      <th>utilization</th>\n",
       "    </tr>\n",
       "  </thead>\n",
       "  <tbody>\n",
       "    <tr>\n",
       "      <th>count</th>\n",
       "      <td>45.000000</td>\n",
       "      <td>4.500000e+01</td>\n",
       "    </tr>\n",
       "    <tr>\n",
       "      <th>mean</th>\n",
       "      <td>242.903621</td>\n",
       "      <td>5.386295e-01</td>\n",
       "    </tr>\n",
       "    <tr>\n",
       "      <th>std</th>\n",
       "      <td>46.495536</td>\n",
       "      <td>4.066250e-01</td>\n",
       "    </tr>\n",
       "    <tr>\n",
       "      <th>min</th>\n",
       "      <td>171.878544</td>\n",
       "      <td>9.695430e-21</td>\n",
       "    </tr>\n",
       "    <tr>\n",
       "      <th>25%</th>\n",
       "      <td>222.638848</td>\n",
       "      <td>8.818039e-20</td>\n",
       "    </tr>\n",
       "    <tr>\n",
       "      <th>50%</th>\n",
       "      <td>249.381282</td>\n",
       "      <td>6.449009e-01</td>\n",
       "    </tr>\n",
       "    <tr>\n",
       "      <th>75%</th>\n",
       "      <td>255.535326</td>\n",
       "      <td>9.946960e-01</td>\n",
       "    </tr>\n",
       "    <tr>\n",
       "      <th>max</th>\n",
       "      <td>375.018656</td>\n",
       "      <td>9.999953e-01</td>\n",
       "    </tr>\n",
       "  </tbody>\n",
       "</table>\n",
       "</div>"
      ],
      "text/plain": [
       "       response_time   utilization\n",
       "count      45.000000  4.500000e+01\n",
       "mean      242.903621  5.386295e-01\n",
       "std        46.495536  4.066250e-01\n",
       "min       171.878544  9.695430e-21\n",
       "25%       222.638848  8.818039e-20\n",
       "50%       249.381282  6.449009e-01\n",
       "75%       255.535326  9.946960e-01\n",
       "max       375.018656  9.999953e-01"
      ]
     },
     "execution_count": 17,
     "metadata": {},
     "output_type": "execute_result"
    }
   ],
   "source": [
    "X_train[['response_time', 'utilization']].describe()"
   ]
  },
  {
   "cell_type": "code",
   "execution_count": 18,
   "metadata": {},
   "outputs": [
    {
     "data": {
      "application/vnd.microsoft.datawrangler.viewer.v0+json": {
       "columns": [
        {
         "name": "index",
         "rawType": "object",
         "type": "string"
        },
        {
         "name": "response_time",
         "rawType": "float64",
         "type": "float"
        },
        {
         "name": "utilization",
         "rawType": "float64",
         "type": "float"
        }
       ],
       "conversionMethod": "pd.DataFrame",
       "ref": "1f5f711a-e930-4c1d-a0d9-87727bf21cc3",
       "rows": [
        [
         "count",
         "31.0",
         "31.0"
        ],
        [
         "mean",
         "248.9783521938975",
         "0.5541182057868957"
        ],
        [
         "std",
         "47.221182027502905",
         "0.42941950469339285"
        ],
        [
         "min",
         "171.67985219100473",
         "0.0"
        ],
        [
         "25%",
         "226.8735067113815",
         "7.091695016627031e-20"
        ],
        [
         "50%",
         "248.6321631171404",
         "0.6430208345759617"
        ],
        [
         "75%",
         "251.3892212107364",
         "0.9982938539017188"
        ],
        [
         "max",
         "381.8796651052385",
         "0.9999424855719868"
        ]
       ],
       "shape": {
        "columns": 2,
        "rows": 8
       }
      },
      "text/html": [
       "<div>\n",
       "<style scoped>\n",
       "    .dataframe tbody tr th:only-of-type {\n",
       "        vertical-align: middle;\n",
       "    }\n",
       "\n",
       "    .dataframe tbody tr th {\n",
       "        vertical-align: top;\n",
       "    }\n",
       "\n",
       "    .dataframe thead th {\n",
       "        text-align: right;\n",
       "    }\n",
       "</style>\n",
       "<table border=\"1\" class=\"dataframe\">\n",
       "  <thead>\n",
       "    <tr style=\"text-align: right;\">\n",
       "      <th></th>\n",
       "      <th>response_time</th>\n",
       "      <th>utilization</th>\n",
       "    </tr>\n",
       "  </thead>\n",
       "  <tbody>\n",
       "    <tr>\n",
       "      <th>count</th>\n",
       "      <td>31.000000</td>\n",
       "      <td>3.100000e+01</td>\n",
       "    </tr>\n",
       "    <tr>\n",
       "      <th>mean</th>\n",
       "      <td>248.978352</td>\n",
       "      <td>5.541182e-01</td>\n",
       "    </tr>\n",
       "    <tr>\n",
       "      <th>std</th>\n",
       "      <td>47.221182</td>\n",
       "      <td>4.294195e-01</td>\n",
       "    </tr>\n",
       "    <tr>\n",
       "      <th>min</th>\n",
       "      <td>171.679852</td>\n",
       "      <td>0.000000e+00</td>\n",
       "    </tr>\n",
       "    <tr>\n",
       "      <th>25%</th>\n",
       "      <td>226.873507</td>\n",
       "      <td>7.091695e-20</td>\n",
       "    </tr>\n",
       "    <tr>\n",
       "      <th>50%</th>\n",
       "      <td>248.632163</td>\n",
       "      <td>6.430208e-01</td>\n",
       "    </tr>\n",
       "    <tr>\n",
       "      <th>75%</th>\n",
       "      <td>251.389221</td>\n",
       "      <td>9.982939e-01</td>\n",
       "    </tr>\n",
       "    <tr>\n",
       "      <th>max</th>\n",
       "      <td>381.879665</td>\n",
       "      <td>9.999425e-01</td>\n",
       "    </tr>\n",
       "  </tbody>\n",
       "</table>\n",
       "</div>"
      ],
      "text/plain": [
       "       response_time   utilization\n",
       "count      31.000000  3.100000e+01\n",
       "mean      248.978352  5.541182e-01\n",
       "std        47.221182  4.294195e-01\n",
       "min       171.679852  0.000000e+00\n",
       "25%       226.873507  7.091695e-20\n",
       "50%       248.632163  6.430208e-01\n",
       "75%       251.389221  9.982939e-01\n",
       "max       381.879665  9.999425e-01"
      ]
     },
     "execution_count": 18,
     "metadata": {},
     "output_type": "execute_result"
    }
   ],
   "source": [
    "X_test[['response_time', 'utilization']].describe()"
   ]
  },
  {
   "cell_type": "code",
   "execution_count": 19,
   "metadata": {},
   "outputs": [
    {
     "name": "stdout",
     "output_type": "stream",
     "text": [
      "Absolute ranges: [(171, 385), (0.0, 1.0)]\n",
      "response_time [170.9, 242.3, 313.70000000000005, 385.1]\n",
      "utilization [-0.1, 0.30000000000000004, 0.7000000000000002, 1.1]\n"
     ]
    },
    {
     "data": {
      "image/png": "[encoded data removed]",
      "text/plain": [
       "<Figure size 500x500 with 2 Axes>"
      ]
     },
     "metadata": {},
     "output_type": "display_data"
    },
    {
     "data": {
      "text/plain": [
       "{'response_time': [170.9, 242.3, 313.70000000000005, 385.1],\n",
       " 'utilization': [-0.1, 0.30000000000000004, 0.7000000000000002, 1.1]}"
      ]
     },
     "execution_count": 19,
     "metadata": {},
     "output_type": "execute_result"
    }
   ],
   "source": [
    "MIN_RESPONSE_TIME, MAX_RESPONSE_TIME = (171, 385) \n",
    "MIN_UTILIZATION, MAX_UTILIZATION = (0.0, 1.0) \n",
    "MIN_MAX_RANGES = [(MIN_RESPONSE_TIME, MAX_RESPONSE_TIME), (MIN_UTILIZATION, MAX_UTILIZATION)]\n",
    "print('Absolute ranges:', MIN_MAX_RANGES)\n",
    "\n",
    "show_outcome_distributions(my_space, mins_maxs=MIN_MAX_RANGES, size=(5,5))"
   ]
  },
  {
   "cell_type": "code",
   "execution_count": 20,
   "metadata": {},
   "outputs": [
    {
     "data": {
      "application/vnd.microsoft.datawrangler.viewer.v0+json": {
       "columns": [
        {
         "name": "index",
         "rawType": "object",
         "type": "string"
        },
        {
         "name": "response_time",
         "rawType": "float64",
         "type": "float"
        },
        {
         "name": "utilization",
         "rawType": "float64",
         "type": "float"
        }
       ],
       "conversionMethod": "pd.DataFrame",
       "ref": "aff1db2a-65f1-4c3d-a471-f90f62f0b2ee",
       "rows": [
        [
         "count",
         "76.0",
         "76.0"
        ],
        [
         "mean",
         "245.38147202732435",
         "0.5449472610636231"
        ],
        [
         "std",
         "46.57514175851963",
         "0.41330486598505584"
        ],
        [
         "min",
         "171.67985219100473",
         "0.0"
        ],
        [
         "25%",
         "222.56612150271667",
         "8.010689619277196e-20"
        ],
        [
         "50%",
         "248.89505714867693",
         "0.6439608875727452"
        ],
        [
         "75%",
         "253.69993156093554",
         "0.9977156354785841"
        ],
        [
         "max",
         "381.8796651052385",
         "0.9999952966335196"
        ]
       ],
       "shape": {
        "columns": 2,
        "rows": 8
       }
      },
      "text/html": [
       "<div>\n",
       "<style scoped>\n",
       "    .dataframe tbody tr th:only-of-type {\n",
       "        vertical-align: middle;\n",
       "    }\n",
       "\n",
       "    .dataframe tbody tr th {\n",
       "        vertical-align: top;\n",
       "    }\n",
       "\n",
       "    .dataframe thead th {\n",
       "        text-align: right;\n",
       "    }\n",
       "</style>\n",
       "<table border=\"1\" class=\"dataframe\">\n",
       "  <thead>\n",
       "    <tr style=\"text-align: right;\">\n",
       "      <th></th>\n",
       "      <th>response_time</th>\n",
       "      <th>utilization</th>\n",
       "    </tr>\n",
       "  </thead>\n",
       "  <tbody>\n",
       "    <tr>\n",
       "      <th>count</th>\n",
       "      <td>76.000000</td>\n",
       "      <td>7.600000e+01</td>\n",
       "    </tr>\n",
       "    <tr>\n",
       "      <th>mean</th>\n",
       "      <td>245.381472</td>\n",
       "      <td>5.449473e-01</td>\n",
       "    </tr>\n",
       "    <tr>\n",
       "      <th>std</th>\n",
       "      <td>46.575142</td>\n",
       "      <td>4.133049e-01</td>\n",
       "    </tr>\n",
       "    <tr>\n",
       "      <th>min</th>\n",
       "      <td>171.679852</td>\n",
       "      <td>0.000000e+00</td>\n",
       "    </tr>\n",
       "    <tr>\n",
       "      <th>25%</th>\n",
       "      <td>222.566122</td>\n",
       "      <td>8.010690e-20</td>\n",
       "    </tr>\n",
       "    <tr>\n",
       "      <th>50%</th>\n",
       "      <td>248.895057</td>\n",
       "      <td>6.439609e-01</td>\n",
       "    </tr>\n",
       "    <tr>\n",
       "      <th>75%</th>\n",
       "      <td>253.699932</td>\n",
       "      <td>9.977156e-01</td>\n",
       "    </tr>\n",
       "    <tr>\n",
       "      <th>max</th>\n",
       "      <td>381.879665</td>\n",
       "      <td>9.999953e-01</td>\n",
       "    </tr>\n",
       "  </tbody>\n",
       "</table>\n",
       "</div>"
      ],
      "text/plain": [
       "       response_time   utilization\n",
       "count      76.000000  7.600000e+01\n",
       "mean      245.381472  5.449473e-01\n",
       "std        46.575142  4.133049e-01\n",
       "min       171.679852  0.000000e+00\n",
       "25%       222.566122  8.010690e-20\n",
       "50%       248.895057  6.439609e-01\n",
       "75%       253.699932  9.977156e-01\n",
       "max       381.879665  9.999953e-01"
      ]
     },
     "execution_count": 20,
     "metadata": {},
     "output_type": "execute_result"
    }
   ],
   "source": [
    "df_concat = pd.concat([X_train, X_test], axis=0)\n",
    "df_concat.reset_index(drop=True, inplace=True)\n",
    "df_concat[['response_time', 'utilization']].describe()"
   ]
  },
  {
   "cell_type": "code",
   "execution_count": 24,
   "metadata": {},
   "outputs": [
    {
     "name": "stdout",
     "output_type": "stream",
     "text": [
      "Experiments: (78, 11)\n",
      "Counter({'average,high': 26, 'fast,average': 15, 'fast,low': 11, 'average,low': 8, 'slow,low': 5, 'fast,high': 5, 'average,average': 4, 'slow,average': 2})\n"
     ]
    },
    {
     "data": {
      "text/plain": [
       "<Figure size 7680x5760 with 0 Axes>"
      ]
     },
     "metadata": {},
     "output_type": "display_data"
    },
    {
     "data": {
      "image/png": "[encoded data removed]",
      "text/plain": [
       "<Figure size 600x600 with 1 Axes>"
      ]
     },
     "metadata": {},
     "output_type": "display_data"
    }
   ],
   "source": [
    "plt.gcf().set_dpi(1200)\n",
    "\n",
    "# my_space.import_dataset(df_concat, df_concat[['response_time', 'utilization']])\n",
    " \n",
    "_ = my_space.discretize_outcomes(mins_maxs=MIN_MAX_RANGES)\n",
    "print(\"Experiments:\", experiments_df.shape)\n",
    "print(my_space.available_tradeoffs_)\n",
    "\n",
    "df = df_concat[['response_time', 'utilization','policy']].copy()\n",
    "show_quality_attribute_space2D(df, MIN_MAX_RANGES, alpha=0.7) #, dpi=1200)"
   ]
  },
  {
   "cell_type": "code",
   "execution_count": 22,
   "metadata": {},
   "outputs": [
    {
     "name": "stdout",
     "output_type": "stream",
     "text": [
      "Computing robustness for all configurations (whole space)...\n"
     ]
    },
    {
     "name": "stderr",
     "output_type": "stream",
     "text": [
      "100%|██████████| 3/3 [00:00<00:00, 10.62it/s]\n"
     ]
    },
    {
     "data": {
      "image/png": "[encoded data removed]",
      "text/plain": [
       "<Figure size 640x480 with 2 Axes>"
      ]
     },
     "metadata": {},
     "output_type": "display_data"
    },
    {
     "data": {
      "text/html": [
       "<div>\n",
       "<style scoped>\n",
       "    .dataframe tbody tr th:only-of-type {\n",
       "        vertical-align: middle;\n",
       "    }\n",
       "\n",
       "    .dataframe tbody tr th {\n",
       "        vertical-align: top;\n",
       "    }\n",
       "\n",
       "    .dataframe thead th {\n",
       "        text-align: right;\n",
       "    }\n",
       "</style>\n",
       "<table border=\"1\" class=\"dataframe\">\n",
       "  <thead>\n",
       "    <tr style=\"text-align: right;\">\n",
       "      <th></th>\n",
       "      <th>short-services-offloaded</th>\n",
       "      <th>long-services-offloaded</th>\n",
       "      <th>no-offloading</th>\n",
       "    </tr>\n",
       "  </thead>\n",
       "  <tbody>\n",
       "    <tr>\n",
       "      <th>average,average</th>\n",
       "      <td>0.153846</td>\n",
       "      <td>0.0</td>\n",
       "      <td>0.000000</td>\n",
       "    </tr>\n",
       "    <tr>\n",
       "      <th>average,high</th>\n",
       "      <td>0.000000</td>\n",
       "      <td>1.0</td>\n",
       "      <td>0.000000</td>\n",
       "    </tr>\n",
       "    <tr>\n",
       "      <th>average,low</th>\n",
       "      <td>0.000000</td>\n",
       "      <td>0.0</td>\n",
       "      <td>0.333333</td>\n",
       "    </tr>\n",
       "    <tr>\n",
       "      <th>fast,average</th>\n",
       "      <td>0.576923</td>\n",
       "      <td>0.0</td>\n",
       "      <td>0.000000</td>\n",
       "    </tr>\n",
       "    <tr>\n",
       "      <th>fast,high</th>\n",
       "      <td>0.192308</td>\n",
       "      <td>0.0</td>\n",
       "      <td>0.000000</td>\n",
       "    </tr>\n",
       "    <tr>\n",
       "      <th>fast,low</th>\n",
       "      <td>0.000000</td>\n",
       "      <td>0.0</td>\n",
       "      <td>0.458333</td>\n",
       "    </tr>\n",
       "    <tr>\n",
       "      <th>slow,average</th>\n",
       "      <td>0.076923</td>\n",
       "      <td>0.0</td>\n",
       "      <td>0.000000</td>\n",
       "    </tr>\n",
       "    <tr>\n",
       "      <th>slow,low</th>\n",
       "      <td>0.000000</td>\n",
       "      <td>0.0</td>\n",
       "      <td>0.208333</td>\n",
       "    </tr>\n",
       "  </tbody>\n",
       "</table>\n",
       "</div>"
      ],
      "text/plain": [
       "                 short-services-offloaded  long-services-offloaded  \\\n",
       "average,average                  0.153846                      0.0   \n",
       "average,high                     0.000000                      1.0   \n",
       "average,low                      0.000000                      0.0   \n",
       "fast,average                     0.576923                      0.0   \n",
       "fast,high                        0.192308                      0.0   \n",
       "fast,low                         0.000000                      0.0   \n",
       "slow,average                     0.076923                      0.0   \n",
       "slow,low                         0.000000                      0.0   \n",
       "\n",
       "                 no-offloading  \n",
       "average,average       0.000000  \n",
       "average,high          0.000000  \n",
       "average,low           0.333333  \n",
       "fast,average          0.000000  \n",
       "fast,high             0.000000  \n",
       "fast,low              0.458333  \n",
       "slow,average          0.000000  \n",
       "slow,low              0.208333  "
      ]
     },
     "execution_count": 22,
     "metadata": {},
     "output_type": "execute_result"
    }
   ],
   "source": [
    "# def compute_robustness_matrix(my_space):\n",
    "#     main_dict = dict()\n",
    "#     for exp in tqdm(my_space.get_configurations()):\n",
    "#         print(exp)\n",
    "#         main_dict[str(exp)] = dict()\n",
    "#         for qa in my_space.available_tradeoffs_.keys():\n",
    "#             main_dict[str(exp)][qa], _ = my_space.compute_robustness(exp, qa)\n",
    "#     df = pd.DataFrame.from_dict(main_dict, orient='columns').sort_index()\n",
    "#     return df\n",
    "\n",
    "print(\"Computing robustness for all configurations (whole space)...\")\n",
    "df = my_space.compute_robustness_matrix()\n",
    "# df.to_csv('./gateway_offloading_robustness_matrix.csv')\n",
    "\n",
    "sns.heatmap(df, annot=True, fmt=\".2f\", cmap='flare')\n",
    "plt.show()\n",
    "df"
   ]
  },
  {
   "cell_type": "code",
   "execution_count": 23,
   "metadata": {},
   "outputs": [
    {
     "data": {
      "image/png": "[encoded data removed]",
      "text/plain": [
       "<Figure size 300x500 with 1 Axes>"
      ]
     },
     "metadata": {},
     "output_type": "display_data"
    },
    {
     "data": {
      "image/png": "[encoded data removed]",
      "text/plain": [
       "<Figure size 400x300 with 2 Axes>"
      ]
     },
     "metadata": {},
     "output_type": "display_data"
    }
   ],
   "source": [
    "show_tradeoff_distribution(my_space, size=(3,5))\n",
    "show_tradeoff_distribution(my_space, size=(4,3), in2D=True)"
   ]
  },
  {
   "cell_type": "code",
   "execution_count": 24,
   "metadata": {},
   "outputs": [
    {
     "data": {
      "text/html": [
       "<div>\n",
       "<style scoped>\n",
       "    .dataframe tbody tr th:only-of-type {\n",
       "        vertical-align: middle;\n",
       "    }\n",
       "\n",
       "    .dataframe tbody tr th {\n",
       "        vertical-align: top;\n",
       "    }\n",
       "\n",
       "    .dataframe thead th {\n",
       "        text-align: right;\n",
       "    }\n",
       "</style>\n",
       "<table border=\"1\" class=\"dataframe\">\n",
       "  <thead>\n",
       "    <tr style=\"text-align: right;\">\n",
       "      <th></th>\n",
       "      <th>objective</th>\n",
       "      <th>min</th>\n",
       "      <th>max</th>\n",
       "      <th>label</th>\n",
       "    </tr>\n",
       "  </thead>\n",
       "  <tbody>\n",
       "    <tr>\n",
       "      <th>0</th>\n",
       "      <td>response_time</td>\n",
       "      <td>171.579852</td>\n",
       "      <td>241.713123</td>\n",
       "      <td>fast</td>\n",
       "    </tr>\n",
       "    <tr>\n",
       "      <th>1</th>\n",
       "      <td>response_time</td>\n",
       "      <td>241.713123</td>\n",
       "      <td>311.846394</td>\n",
       "      <td>average</td>\n",
       "    </tr>\n",
       "    <tr>\n",
       "      <th>2</th>\n",
       "      <td>response_time</td>\n",
       "      <td>311.846394</td>\n",
       "      <td>381.979665</td>\n",
       "      <td>slow</td>\n",
       "    </tr>\n",
       "    <tr>\n",
       "      <th>3</th>\n",
       "      <td>utilization</td>\n",
       "      <td>-0.100000</td>\n",
       "      <td>0.299998</td>\n",
       "      <td>low</td>\n",
       "    </tr>\n",
       "    <tr>\n",
       "      <th>4</th>\n",
       "      <td>utilization</td>\n",
       "      <td>0.299998</td>\n",
       "      <td>0.699997</td>\n",
       "      <td>average</td>\n",
       "    </tr>\n",
       "    <tr>\n",
       "      <th>5</th>\n",
       "      <td>utilization</td>\n",
       "      <td>0.699997</td>\n",
       "      <td>1.099995</td>\n",
       "      <td>high</td>\n",
       "    </tr>\n",
       "  </tbody>\n",
       "</table>\n",
       "</div>"
      ],
      "text/plain": [
       "       objective         min         max    label\n",
       "0  response_time  171.579852  241.713123     fast\n",
       "1  response_time  241.713123  311.846394  average\n",
       "2  response_time  311.846394  381.979665     slow\n",
       "3    utilization   -0.100000    0.299998      low\n",
       "4    utilization    0.299998    0.699997  average\n",
       "5    utilization    0.699997    1.099995     high"
      ]
     },
     "execution_count": 24,
     "metadata": {},
     "output_type": "execute_result"
    }
   ],
   "source": [
    "label_values_df = my_space.describe_labels(n_bins=3)\n",
    "label_values_df"
   ]
  },
  {
   "cell_type": "code",
   "execution_count": 30,
   "metadata": {},
   "outputs": [
    {
     "name": "stdout",
     "output_type": "stream",
     "text": [
      "  Computing robustness for all configurations (train set)...\n",
      "Counter({'average,high': 14, 'fast,average': 9, 'fast,low': 6, 'average,low': 5, 'fast,high': 4, 'slow,low': 3, 'average,average': 3, 'slow,average': 1})\n"
     ]
    },
    {
     "name": "stderr",
     "output_type": "stream",
     "text": [
      "100%|██████████| 3/3 [00:00<00:00, 29.71it/s]\n"
     ]
    },
    {
     "data": {
      "image/png": "[encoded data removed]",
      "text/plain": [
       "<Figure size 640x480 with 2 Axes>"
      ]
     },
     "metadata": {},
     "output_type": "display_data"
    },
    {
     "data": {
      "image/png": "[encoded data removed]",
      "text/plain": [
       "<Figure size 300x500 with 1 Axes>"
      ]
     },
     "metadata": {},
     "output_type": "display_data"
    },
    {
     "data": {
      "image/png": "[encoded data removed]",
      "text/plain": [
       "<Figure size 400x300 with 2 Axes>"
      ]
     },
     "metadata": {},
     "output_type": "display_data"
    },
    {
     "data": {
      "text/html": [
       "<div>\n",
       "<style scoped>\n",
       "    .dataframe tbody tr th:only-of-type {\n",
       "        vertical-align: middle;\n",
       "    }\n",
       "\n",
       "    .dataframe tbody tr th {\n",
       "        vertical-align: top;\n",
       "    }\n",
       "\n",
       "    .dataframe thead th {\n",
       "        text-align: right;\n",
       "    }\n",
       "</style>\n",
       "<table border=\"1\" class=\"dataframe\">\n",
       "  <thead>\n",
       "    <tr style=\"text-align: right;\">\n",
       "      <th></th>\n",
       "      <th>short-services-offloaded</th>\n",
       "      <th>long-services-offloaded</th>\n",
       "      <th>no-offloading</th>\n",
       "    </tr>\n",
       "  </thead>\n",
       "  <tbody>\n",
       "    <tr>\n",
       "      <th>average,average</th>\n",
       "      <td>0.176471</td>\n",
       "      <td>0.0</td>\n",
       "      <td>0.000000</td>\n",
       "    </tr>\n",
       "    <tr>\n",
       "      <th>average,high</th>\n",
       "      <td>0.000000</td>\n",
       "      <td>1.0</td>\n",
       "      <td>0.000000</td>\n",
       "    </tr>\n",
       "    <tr>\n",
       "      <th>average,low</th>\n",
       "      <td>0.000000</td>\n",
       "      <td>0.0</td>\n",
       "      <td>0.357143</td>\n",
       "    </tr>\n",
       "    <tr>\n",
       "      <th>fast,average</th>\n",
       "      <td>0.529412</td>\n",
       "      <td>0.0</td>\n",
       "      <td>0.000000</td>\n",
       "    </tr>\n",
       "    <tr>\n",
       "      <th>fast,high</th>\n",
       "      <td>0.235294</td>\n",
       "      <td>0.0</td>\n",
       "      <td>0.000000</td>\n",
       "    </tr>\n",
       "    <tr>\n",
       "      <th>fast,low</th>\n",
       "      <td>0.000000</td>\n",
       "      <td>0.0</td>\n",
       "      <td>0.428571</td>\n",
       "    </tr>\n",
       "    <tr>\n",
       "      <th>slow,average</th>\n",
       "      <td>0.058824</td>\n",
       "      <td>0.0</td>\n",
       "      <td>0.000000</td>\n",
       "    </tr>\n",
       "    <tr>\n",
       "      <th>slow,low</th>\n",
       "      <td>0.000000</td>\n",
       "      <td>0.0</td>\n",
       "      <td>0.214286</td>\n",
       "    </tr>\n",
       "  </tbody>\n",
       "</table>\n",
       "</div>"
      ],
      "text/plain": [
       "                 short-services-offloaded  long-services-offloaded  \\\n",
       "average,average                  0.176471                      0.0   \n",
       "average,high                     0.000000                      1.0   \n",
       "average,low                      0.000000                      0.0   \n",
       "fast,average                     0.529412                      0.0   \n",
       "fast,high                        0.235294                      0.0   \n",
       "fast,low                         0.000000                      0.0   \n",
       "slow,average                     0.058824                      0.0   \n",
       "slow,low                         0.000000                      0.0   \n",
       "\n",
       "                 no-offloading  \n",
       "average,average       0.000000  \n",
       "average,high          0.000000  \n",
       "average,low           0.357143  \n",
       "fast,average          0.000000  \n",
       "fast,high             0.000000  \n",
       "fast,low              0.428571  \n",
       "slow,average          0.000000  \n",
       "slow,low              0.214286  "
      ]
     },
     "execution_count": 30,
     "metadata": {},
     "output_type": "execute_result"
    }
   ],
   "source": [
    "# Work first with the train set\n",
    "\n",
    "# my_space.import_dataset(X_test, y_test)\n",
    "my_space.import_dataset(X_train, y_train)\n",
    "_ = my_space.discretize_outcomes(mins_maxs=MIN_MAX_RANGES)\n",
    "\n",
    "print(\"  Computing robustness for all configurations (train set)...\")\n",
    "print(my_space.available_tradeoffs_)\n",
    "\n",
    "df = my_space.compute_robustness_matrix()\n",
    "sns.heatmap(df, annot=True, fmt=\".2f\", cmap='flare')\n",
    "\n",
    "show_tradeoff_distribution(my_space, size=(3,5))\n",
    "show_tradeoff_distribution(my_space, size=(4,3), in2D=True)\n",
    "\n",
    "df"
   ]
  },
  {
   "cell_type": "code",
   "execution_count": 31,
   "metadata": {},
   "outputs": [
    {
     "name": "stdout",
     "output_type": "stream",
     "text": [
      "  Computing robustness for all configurations (test set)...\n",
      "Counter({'average,high': 12, 'fast,average': 6, 'fast,low': 5, 'average,low': 3, 'slow,low': 2, 'average,average': 1, 'slow,average': 1, 'fast,high': 1})\n"
     ]
    },
    {
     "name": "stderr",
     "output_type": "stream",
     "text": [
      "100%|██████████| 3/3 [00:00<00:00, 16.15it/s]\n"
     ]
    },
    {
     "data": {
      "image/png": "[encoded data removed]",
      "text/plain": [
       "<Figure size 640x480 with 2 Axes>"
      ]
     },
     "metadata": {},
     "output_type": "display_data"
    },
    {
     "data": {
      "image/png": "[encoded data removed]",
      "text/plain": [
       "<Figure size 300x500 with 1 Axes>"
      ]
     },
     "metadata": {},
     "output_type": "display_data"
    },
    {
     "data": {
      "image/png": "[encoded data removed]",
      "text/plain": [
       "<Figure size 400x300 with 2 Axes>"
      ]
     },
     "metadata": {},
     "output_type": "display_data"
    },
    {
     "data": {
      "text/html": [
       "<div>\n",
       "<style scoped>\n",
       "    .dataframe tbody tr th:only-of-type {\n",
       "        vertical-align: middle;\n",
       "    }\n",
       "\n",
       "    .dataframe tbody tr th {\n",
       "        vertical-align: top;\n",
       "    }\n",
       "\n",
       "    .dataframe thead th {\n",
       "        text-align: right;\n",
       "    }\n",
       "</style>\n",
       "<table border=\"1\" class=\"dataframe\">\n",
       "  <thead>\n",
       "    <tr style=\"text-align: right;\">\n",
       "      <th></th>\n",
       "      <th>short-services-offloaded</th>\n",
       "      <th>long-services-offloaded</th>\n",
       "      <th>no-offloading</th>\n",
       "    </tr>\n",
       "  </thead>\n",
       "  <tbody>\n",
       "    <tr>\n",
       "      <th>average,average</th>\n",
       "      <td>0.111111</td>\n",
       "      <td>0.0</td>\n",
       "      <td>0.0</td>\n",
       "    </tr>\n",
       "    <tr>\n",
       "      <th>average,high</th>\n",
       "      <td>0.000000</td>\n",
       "      <td>1.0</td>\n",
       "      <td>0.0</td>\n",
       "    </tr>\n",
       "    <tr>\n",
       "      <th>average,low</th>\n",
       "      <td>0.000000</td>\n",
       "      <td>0.0</td>\n",
       "      <td>0.3</td>\n",
       "    </tr>\n",
       "    <tr>\n",
       "      <th>fast,average</th>\n",
       "      <td>0.666667</td>\n",
       "      <td>0.0</td>\n",
       "      <td>0.0</td>\n",
       "    </tr>\n",
       "    <tr>\n",
       "      <th>fast,high</th>\n",
       "      <td>0.111111</td>\n",
       "      <td>0.0</td>\n",
       "      <td>0.0</td>\n",
       "    </tr>\n",
       "    <tr>\n",
       "      <th>fast,low</th>\n",
       "      <td>0.000000</td>\n",
       "      <td>0.0</td>\n",
       "      <td>0.5</td>\n",
       "    </tr>\n",
       "    <tr>\n",
       "      <th>slow,average</th>\n",
       "      <td>0.111111</td>\n",
       "      <td>0.0</td>\n",
       "      <td>0.0</td>\n",
       "    </tr>\n",
       "    <tr>\n",
       "      <th>slow,low</th>\n",
       "      <td>0.000000</td>\n",
       "      <td>0.0</td>\n",
       "      <td>0.2</td>\n",
       "    </tr>\n",
       "  </tbody>\n",
       "</table>\n",
       "</div>"
      ],
      "text/plain": [
       "                 short-services-offloaded  long-services-offloaded  \\\n",
       "average,average                  0.111111                      0.0   \n",
       "average,high                     0.000000                      1.0   \n",
       "average,low                      0.000000                      0.0   \n",
       "fast,average                     0.666667                      0.0   \n",
       "fast,high                        0.111111                      0.0   \n",
       "fast,low                         0.000000                      0.0   \n",
       "slow,average                     0.111111                      0.0   \n",
       "slow,low                         0.000000                      0.0   \n",
       "\n",
       "                 no-offloading  \n",
       "average,average            0.0  \n",
       "average,high               0.0  \n",
       "average,low                0.3  \n",
       "fast,average               0.0  \n",
       "fast,high                  0.0  \n",
       "fast,low                   0.5  \n",
       "slow,average               0.0  \n",
       "slow,low                   0.2  "
      ]
     },
     "execution_count": 31,
     "metadata": {},
     "output_type": "execute_result"
    }
   ],
   "source": [
    "my_space.import_dataset(X_test, y_test)\n",
    "# my_space.import_dataset(X_train, y_train)\n",
    "_ = my_space.discretize_outcomes(mins_maxs=MIN_MAX_RANGES)\n",
    "\n",
    "print(\"  Computing robustness for all configurations (test set)...\")\n",
    "print(my_space.available_tradeoffs_)\n",
    "\n",
    "df = my_space.compute_robustness_matrix()\n",
    "sns.heatmap(df, annot=True, fmt=\".2f\", cmap='flare')\n",
    "\n",
    "show_tradeoff_distribution(my_space, size=(3,5))\n",
    "show_tradeoff_distribution(my_space, size=(4,3), in2D=True)\n",
    "\n",
    "df"
   ]
  },
  {
   "cell_type": "code",
   "execution_count": 26,
   "metadata": {},
   "outputs": [
    {
     "name": "stdout",
     "output_type": "stream",
     "text": [
      "\n",
      "Checking (with PRIM) ----\n",
      "  Property:  average,average {'response_time': (242.3, 313.70000000000005), 'utilization': (0.30000000000000004, 0.7000000000000002)}\n",
      "  Policy:  None\n",
      "  New ranges: {'N_A': {'min': 0.0, 'max': 23.0}, 'S_gw': {'min': 2.5000000000000004, 'max': 7.5}}\n",
      "  Experiments: (8, 11)\n",
      "(0.0, 'average,average')\n",
      "  Computing robustness for all configurations (test set) ...\n"
     ]
    },
    {
     "name": "stderr",
     "output_type": "stream",
     "text": [
      "100%|██████████| 1/1 [00:00<00:00, 37.73it/s]\n"
     ]
    },
    {
     "name": "stdout",
     "output_type": "stream",
     "text": [
      "                 short-services-offloaded\n",
      "average,average                     0.125\n",
      "fast,average                        0.750\n",
      "fast,high                           0.125\n",
      "\n",
      "Checking (with PRIM) ----\n",
      "  Property:  average,high {'response_time': (242.3, 313.70000000000005), 'utilization': (0.7000000000000002, 1.1)}\n",
      "  Policy:  None\n",
      "  New ranges: {'S_gw': {'min': 7.5, 'max': 10.0}}\n",
      "  Experiments: (12, 11)\n",
      "(0.0, 'average,high')\n",
      "  Computing robustness for all configurations (test set) ...\n"
     ]
    },
    {
     "name": "stderr",
     "output_type": "stream",
     "text": [
      "100%|██████████| 1/1 [00:00<00:00, 106.69it/s]\n"
     ]
    },
    {
     "name": "stdout",
     "output_type": "stream",
     "text": [
      "              long-services-offloaded\n",
      "average,high                      1.0\n",
      "\n",
      "Checking (with PRIM) ----\n",
      "  Property:  average,low {'response_time': (242.3, 313.70000000000005), 'utilization': (-0.1, 0.30000000000000004)}\n",
      "  Policy:  None\n",
      "  New ranges: {'N_A': {'min': 4.0, 'max': 20.0}, 'S_gw': {'min': 1e-15, 'max': 2.5000000000000004}}\n",
      "  Experiments: (6, 11)\n",
      "(0.0, 'average,low')\n",
      "  Computing robustness for all configurations (test set) ...\n"
     ]
    },
    {
     "name": "stderr",
     "output_type": "stream",
     "text": [
      "100%|██████████| 1/1 [00:00<00:00, 68.72it/s]\n"
     ]
    },
    {
     "name": "stdout",
     "output_type": "stream",
     "text": [
      "             no-offloading\n",
      "average,low       0.166667\n",
      "fast,low          0.833333\n",
      "\n",
      "Checking (with PRIM) ----\n",
      "  Property:  fast,average {'response_time': (170.9, 242.3), 'utilization': (0.30000000000000004, 0.7000000000000002)}\n",
      "  Policy:  None\n",
      "  New ranges: {'N_A': {'min': 1.0, 'max': 19.0}, 'S_gw': {'min': 2.5000000000000004, 'max': 7.5}}\n",
      "  Experiments: (6, 11)\n",
      "(0.0, 'fast,average')\n",
      "  Computing robustness for all configurations (test set) ...\n"
     ]
    },
    {
     "name": "stderr",
     "output_type": "stream",
     "text": [
      "100%|██████████| 1/1 [00:00<00:00, 74.07it/s]\n"
     ]
    },
    {
     "name": "stdout",
     "output_type": "stream",
     "text": [
      "              short-services-offloaded\n",
      "fast,average                  0.833333\n",
      "fast,high                     0.166667\n",
      "\n",
      "Checking (with PRIM) ----\n",
      "  Property:  fast,high {'response_time': (170.9, 242.3), 'utilization': (0.7000000000000002, 1.1)}\n",
      "  Policy:  None\n",
      "  New ranges: {'N_A': {'min': 8.0, 'max': 12.0}, 'S_gw': {'min': 2.5000000000000004, 'max': 7.5}}\n",
      "  Experiments: (1, 11)\n",
      "(0.0, 'fast,high')\n",
      "  Computing robustness for all configurations (test set) ...\n"
     ]
    },
    {
     "name": "stderr",
     "output_type": "stream",
     "text": [
      "100%|██████████| 1/1 [00:00<00:00, 148.55it/s]\n"
     ]
    },
    {
     "name": "stdout",
     "output_type": "stream",
     "text": [
      "           short-services-offloaded\n",
      "fast,high                       1.0\n",
      "\n",
      "Checking (with PRIM) ----\n",
      "  Property:  fast,low {'response_time': (170.9, 242.3), 'utilization': (-0.1, 0.30000000000000004)}\n",
      "  Policy:  None\n",
      "  New ranges: {'N_A': {'min': 7.0, 'max': 16.0}, 'S_gw': {'min': 1e-15, 'max': 2.5000000000000004}}\n",
      "  Experiments: (4, 11)\n",
      "(0.0, 'fast,low')\n",
      "  Computing robustness for all configurations (test set) ...\n"
     ]
    },
    {
     "name": "stderr",
     "output_type": "stream",
     "text": [
      "100%|██████████| 1/1 [00:00<00:00, 167.36it/s]\n"
     ]
    },
    {
     "name": "stdout",
     "output_type": "stream",
     "text": [
      "          no-offloading\n",
      "fast,low            1.0\n",
      "\n",
      "Checking (with PRIM) ----\n",
      "  Property:  slow,average {'response_time': (313.70000000000005, 385.1), 'utilization': (0.30000000000000004, 0.7000000000000002)}\n",
      "  Policy:  None\n",
      "  New ranges: {'N_A': {'min': 21.0, 'max': 24.0}, 'S_gw': {'min': 2.5000000000000004, 'max': 7.5}}\n",
      "  Experiments: (1, 11)\n",
      "(0.0, 'slow,average')\n",
      "  Computing robustness for all configurations (test set) ...\n"
     ]
    },
    {
     "name": "stderr",
     "output_type": "stream",
     "text": [
      "100%|██████████| 1/1 [00:00<00:00, 240.78it/s]\n"
     ]
    },
    {
     "name": "stdout",
     "output_type": "stream",
     "text": [
      "                 short-services-offloaded\n",
      "average,average                       1.0\n",
      "\n",
      "Checking (with PRIM) ----\n",
      "  Property:  slow,low {'response_time': (313.70000000000005, 385.1), 'utilization': (-0.1, 0.30000000000000004)}\n",
      "  Policy:  None\n",
      "  New ranges: {'S_gw': {'min': 1e-15, 'max': 2.5000000000000004}}\n",
      "  Experiments: (10, 11)\n",
      "(0.0, 'slow,low')\n",
      "  Computing robustness for all configurations (test set) ...\n"
     ]
    },
    {
     "name": "stderr",
     "output_type": "stream",
     "text": [
      "100%|██████████| 1/1 [00:00<00:00, 56.89it/s]"
     ]
    },
    {
     "name": "stdout",
     "output_type": "stream",
     "text": [
      "             no-offloading\n",
      "average,low            0.3\n",
      "fast,low               0.5\n",
      "slow,low               0.2\n"
     ]
    },
    {
     "name": "stderr",
     "output_type": "stream",
     "text": [
      "\n"
     ]
    }
   ],
   "source": [
    "# Run PRIM for each tradeoff using the train set, and then evaluate the robustness achieved on the test set\n",
    "warnings.filterwarnings('ignore')\n",
    "# my_space.import_dataset(X_train, y_train)\n",
    "\n",
    "# kp = ['N_A', 'N_B', 'r_gw', 'r_A_s1', 'r_B_s2', 'r_B_s3']\n",
    "kp = ['N_A', 'N_B', 'S_gw'] #, 'r_A_s1', 'r_B_s2', 'r_B_s3']\n",
    "my_policies = my_space.get_configurations()\n",
    "qa_labels = list(my_space.available_tradeoffs_.keys())\n",
    "qa_labels.sort()\n",
    "for qa_label in qa_labels:\n",
    "    # Also loop over the different policies (configurations)?\n",
    "    # for policy in my_policies:\n",
    "        policy = None\n",
    "        my_space.import_dataset(X_train, y_train)\n",
    "        _ = my_space.discretize_outcomes(mins_maxs=MIN_MAX_RANGES)\n",
    "        n = my_space.available_tradeoffs_[qa_label]\n",
    "        \n",
    "        if n > 0:\n",
    "            print()\n",
    "            print(\"Checking (with PRIM) ----\")\n",
    "            property_to_check = my_space.get_property_box(qa_label)\n",
    "            print(\"  Property: \", qa_label, property_to_check)\n",
    "            print(\"  Policy: \", policy)\n",
    "\n",
    "            try:\n",
    "                box1, prange, prim_model = my_space.run_prim(property_to_check, policy=policy,\n",
    "                                                         threshold=0.8, method='rhodium', # 'emaw' 'rhodium'\n",
    "                                                         key_parameters=kp, verbose=False)\n",
    "                # print(box1)\n",
    "                print(\"  New ranges:\",  prange)\n",
    "            except Exception:\n",
    "                print(\"EXCEPTION triggered!\") \n",
    "                pass\n",
    "\n",
    "            my_space.import_dataset(X_test, y_test)\n",
    "            my_space.adjust_parameters(prange)\n",
    "            _ = my_space.discretize_outcomes(mins_maxs=MIN_MAX_RANGES)\n",
    "            print(\"  Experiments:\", my_space.experiments_df_.shape)\n",
    "            print(my_space.compute_robustness(policy, qa_label))\n",
    "\n",
    "            print(\"  Computing robustness for all configurations (test set) ...\")\n",
    "            df = my_space.compute_robustness_matrix()\n",
    "            print(df)\n",
    "            # plt.show()\n",
    "\n",
    "my_space.import_dataset(X_train, y_train)\n",
    "_ = my_space.discretize_outcomes(mins_maxs=MIN_MAX_RANGES)\n"
   ]
  },
  {
   "cell_type": "code",
   "execution_count": 27,
   "metadata": {},
   "outputs": [
    {
     "name": "stdout",
     "output_type": "stream",
     "text": [
      "Checking (with CART) ---- all properties\n",
      "  Policy:  None\n",
      "(45, 3) Index(['N_A', 'N_B', 'S_gw'], dtype='object')\n",
      "Running CART ... 0.044444444444444446\n",
      "nodes: 19 leaves: 11\n",
      "  New ranges:\n",
      "\t average,high {'S_gw': {'min': 7.500000001, 'max': inf}}\n",
      "\t fast,low {'S_gw': {'min': 0, 'max': 2.5}, 'N_B': {'min': 0, 'max': 19.5}, 'N_A': {'min': 0, 'max': 16.5}}\n",
      "\t fast,average {'S_gw': {'min': 2.500000001, 'max': 7.5}, 'N_B': {'min': 18.000000001, 'max': inf}, 'N_A': {'min': 0, 'max': 20.0}}\n",
      "\t fast,high {'S_gw': {'min': 2.500000001, 'max': 7.5}, 'N_B': {'min': 12.500000001, 'max': 18.0}, 'N_A': {'min': 0, 'max': 20.0}}\n",
      "\t average,average {'S_gw': {'min': 2.500000001, 'max': 7.5}, 'N_A': {'min': 20.000000001, 'max': inf}}\n",
      "\t average,low {'S_gw': {'min': 0, 'max': 2.5}, 'N_A': {'min': 16.500000001, 'max': 19.5}}\n",
      "\t slow,low {'S_gw': {'min': 0, 'max': 2.5}, 'N_B': {'min': 19.500000001, 'max': inf}, 'N_A': {'min': 0, 'max': 16.5}}\n",
      "Rules:\n",
      "[('>', 'S_gw', 7.5), ('class', 'average,high', 1.0)]\n",
      "[('<=', 'S_gw', 7.5), ('<=', 'S_gw', 2.5), ('<=', 'N_A', 16.5), ('<=', 'N_B', 19.5), ('class', 'fast,low', 1.0)]\n",
      "[('<=', 'S_gw', 7.5), ('>', 'S_gw', 2.5), ('<=', 'N_A', 20.0), ('>', 'N_B', 12.5), ('>', 'N_B', 18.0), ('class', 'fast,average', 0.8)]\n",
      "[('<=', 'S_gw', 7.5), ('>', 'S_gw', 2.5), ('<=', 'N_A', 20.0), ('<=', 'N_B', 12.5), ('class', 'fast,average', 1.0)]\n",
      "[('<=', 'S_gw', 7.5), ('>', 'S_gw', 2.5), ('<=', 'N_A', 20.0), ('>', 'N_B', 12.5), ('<=', 'N_B', 18.0), ('class', 'fast,high', 1.0)]\n",
      "[('<=', 'S_gw', 7.5), ('>', 'S_gw', 2.5), ('>', 'N_A', 20.0), ('class', 'average,average', 0.67)]\n",
      "[('<=', 'S_gw', 7.5), ('<=', 'S_gw', 2.5), ('>', 'N_A', 16.5), ('<=', 'N_A', 19.5), ('class', 'average,low', 1.0)]\n",
      "[('<=', 'S_gw', 7.5), ('<=', 'S_gw', 2.5), ('<=', 'N_A', 16.5), ('>', 'N_B', 19.5), ('class', 'slow,low', 0.67)]\n",
      "[('<=', 'S_gw', 7.5), ('<=', 'S_gw', 2.5), ('>', 'N_A', 16.5), ('>', 'N_A', 19.5), ('class', 'slow,low', 0.5)]\n",
      "\n",
      "Testing ---- \n",
      "\n",
      "  Property:  average,high {'response_time': (242.3, 313.70000000000005), 'utilization': (0.7000000000000002, 1.1)}\n",
      "  Range: {'S_gw': {'min': 7.500000001, 'max': inf}}\n",
      "  No experiments in this range\n",
      "\n",
      "  Property:  fast,low {'response_time': (170.9, 242.3), 'utilization': (-0.1, 0.30000000000000004)}\n",
      "  Range: {'S_gw': {'min': 0, 'max': 2.5}, 'N_B': {'min': 0, 'max': 19.5}, 'N_A': {'min': 0, 'max': 16.5}}\n",
      "  Experiments: (5, 11)\n",
      "(0.0, 'fast,low')\n",
      "  Computing robustness for all configurations (test set) ...\n"
     ]
    },
    {
     "name": "stderr",
     "output_type": "stream",
     "text": [
      "100%|██████████| 1/1 [00:00<00:00, 127.72it/s]"
     ]
    },
    {
     "name": "stdout",
     "output_type": "stream",
     "text": [
      "          no-offloading\n",
      "fast,low            1.0\n",
      "\n",
      "  Property:  fast,average {'response_time': (170.9, 242.3), 'utilization': (0.30000000000000004, 0.7000000000000002)}\n",
      "  Range: {'S_gw': {'min': 2.500000001, 'max': 7.5}, 'N_B': {'min': 18.000000001, 'max': inf}, 'N_A': {'min': 0, 'max': 20.0}}\n"
     ]
    },
    {
     "name": "stderr",
     "output_type": "stream",
     "text": [
      "\n"
     ]
    },
    {
     "name": "stdout",
     "output_type": "stream",
     "text": [
      "  Experiments: (2, 11)\n",
      "(0.0, 'fast,average')\n",
      "  Computing robustness for all configurations (test set) ...\n"
     ]
    },
    {
     "name": "stderr",
     "output_type": "stream",
     "text": [
      "100%|██████████| 1/1 [00:00<00:00, 103.40it/s]\n"
     ]
    },
    {
     "name": "stdout",
     "output_type": "stream",
     "text": [
      "              short-services-offloaded\n",
      "fast,average                       1.0\n",
      "\n",
      "  Property:  fast,high {'response_time': (170.9, 242.3), 'utilization': (0.7000000000000002, 1.1)}\n",
      "  Range: {'S_gw': {'min': 2.500000001, 'max': 7.5}, 'N_B': {'min': 12.500000001, 'max': 18.0}, 'N_A': {'min': 0, 'max': 20.0}}\n",
      "  Experiments: (2, 11)\n",
      "(0.0, 'fast,high')\n",
      "  Computing robustness for all configurations (test set) ...\n"
     ]
    },
    {
     "name": "stderr",
     "output_type": "stream",
     "text": [
      "100%|██████████| 1/1 [00:00<00:00, 72.22it/s]\n"
     ]
    },
    {
     "name": "stdout",
     "output_type": "stream",
     "text": [
      "              short-services-offloaded\n",
      "fast,average                       0.5\n",
      "fast,high                          0.5\n",
      "\n",
      "  Property:  average,average {'response_time': (242.3, 313.70000000000005), 'utilization': (0.30000000000000004, 0.7000000000000002)}\n",
      "  Range: {'S_gw': {'min': 2.500000001, 'max': 7.5}, 'N_A': {'min': 20.000000001, 'max': inf}}\n",
      "  Experiments: (2, 11)\n",
      "(0.0, 'average,average')\n",
      "  Computing robustness for all configurations (test set) ...\n"
     ]
    },
    {
     "name": "stderr",
     "output_type": "stream",
     "text": [
      "100%|██████████| 1/1 [00:00<00:00, 64.72it/s]\n"
     ]
    },
    {
     "name": "stdout",
     "output_type": "stream",
     "text": [
      "                 short-services-offloaded\n",
      "average,average                       0.5\n",
      "slow,average                          0.5\n",
      "\n",
      "  Property:  average,low {'response_time': (242.3, 313.70000000000005), 'utilization': (-0.1, 0.30000000000000004)}\n",
      "  Range: {'S_gw': {'min': 0, 'max': 2.5}, 'N_A': {'min': 16.500000001, 'max': 19.5}}\n",
      "  Experiments: (0, 11)\n",
      "  Computing robustness for all configurations (test set) ...\n"
     ]
    },
    {
     "name": "stderr",
     "output_type": "stream",
     "text": [
      "0it [00:00, ?it/s]"
     ]
    },
    {
     "name": "stdout",
     "output_type": "stream",
     "text": [
      "Empty DataFrame\n",
      "Columns: []\n",
      "Index: []\n",
      "\n",
      "  Property:  slow,low {'response_time': (313.70000000000005, 385.1), 'utilization': (-0.1, 0.30000000000000004)}\n",
      "  Range: {'S_gw': {'min': 0, 'max': 2.5}, 'N_B': {'min': 19.500000001, 'max': inf}, 'N_A': {'min': 0, 'max': 16.5}}\n",
      "  No experiments in this range\n"
     ]
    },
    {
     "name": "stderr",
     "output_type": "stream",
     "text": [
      "\n"
     ]
    }
   ],
   "source": [
    "policy = None\n",
    "my_space.import_dataset(X_train, y_train)\n",
    "_ = my_space.discretize_outcomes(mins_maxs=MIN_MAX_RANGES)\n",
    "# n = my_space.available_tradeoffs_[qa_label]\n",
    "\n",
    "# kp = ['N_A', 'N_B', 'r_gw', 'r_A_s1', 'r_B_s2', 'r_B_s3']\n",
    "kp = ['N_A', 'N_B', 'S_gw'] #, 's_A_s1', 's_B_s2', 's_B_s3']        \n",
    "print(\"Checking (with CART) ---- all properties\")\n",
    "print(\"  Policy: \", policy)\n",
    "\n",
    "\n",
    "triple_rules, ranges, cart_model = my_space.run_cart(key_parameters=kp, prune_tree=True)\n",
    "clf = cart_model.clf\n",
    "print(\"nodes:\", clf.tree_.node_count, \"leaves:\", clf.get_n_leaves())\n",
    "print(\"  New ranges:\")\n",
    "for r in ranges.keys():\n",
    "    print(\"\\t\", r, ranges[r])\n",
    "print(\"Rules:\")\n",
    "for t in triple_rules:\n",
    "    print(t)\n",
    "\n",
    "print()\n",
    "print(\"Testing ---- \")\n",
    "qa_labels = list(my_space.available_tradeoffs_.keys())\n",
    "qa_labels.sort()\n",
    "for qa_label in ranges: # qa_labels:\n",
    "    print()\n",
    "    property_to_check = my_space.get_property_box(qa_label)\n",
    "    prange = ranges[qa_label]\n",
    "    print(\"  Property: \", qa_label, property_to_check)\n",
    "    print(\"  Range:\",  prange)\n",
    "    \n",
    "    my_space.import_dataset(X_test, y_test)\n",
    "    my_space.adjust_parameters(prange)\n",
    "    n = my_space.available_tradeoffs_[qa_label]\n",
    "    if n > 0:\n",
    "        _ = my_space.discretize_outcomes(mins_maxs=MIN_MAX_RANGES)\n",
    "        print(\"  Experiments:\", my_space.experiments_df_.shape)\n",
    "        if my_space.experiments_df_.shape[0] > 0:\n",
    "            print(my_space.compute_robustness(policy, qa_label))\n",
    "\n",
    "        print(\"  Computing robustness for all configurations (test set) ...\")\n",
    "        df = my_space.compute_robustness_matrix()\n",
    "        print(df)\n",
    "        # plt.show()\n",
    "    else:\n",
    "        print(\"  No experiments in this range\")\n",
    "\n",
    "my_space.import_dataset(X_train, y_train)\n",
    "_ = my_space.discretize_outcomes(mins_maxs=MIN_MAX_RANGES)"
   ]
  }
 ],
 "metadata": {
  "kernelspec": {
   "display_name": "perfmodels",
   "language": "python",
   "name": "python3"
  },
  "language_info": {
   "codemirror_mode": {
    "name": "ipython",
    "version": 3
   },
   "file_extension": ".py",
   "mimetype": "text/x-python",
   "name": "python",
   "nbconvert_exporter": "python",
   "pygments_lexer": "ipython3",
   "version": "3.11.7"
  }
 },
 "nbformat": 4,
 "nbformat_minor": 2
}
